{
 "cells": [
  {
   "cell_type": "code",
   "execution_count": 29,
   "id": "1bb9f50e",
   "metadata": {},
   "outputs": [
    {
     "name": "stdout",
     "output_type": "stream",
     "text": [
      "Requirement already satisfied: pandas in d:\\anaconda\\lib\\site-packages (2.0.3)\n",
      "Requirement already satisfied: python-dateutil>=2.8.2 in d:\\anaconda\\lib\\site-packages (from pandas) (2.8.2)\n",
      "Requirement already satisfied: pytz>=2020.1 in d:\\anaconda\\lib\\site-packages (from pandas) (2023.3.post1)\n",
      "Requirement already satisfied: tzdata>=2022.1 in d:\\anaconda\\lib\\site-packages (from pandas) (2023.3)\n",
      "Requirement already satisfied: numpy>=1.21.0 in d:\\anaconda\\lib\\site-packages (from pandas) (1.24.3)\n",
      "Requirement already satisfied: six>=1.5 in d:\\anaconda\\lib\\site-packages (from python-dateutil>=2.8.2->pandas) (1.16.0)\n",
      "Note: you may need to restart the kernel to use updated packages.\n"
     ]
    }
   ],
   "source": [
    "pip install pandas"
   ]
  },
  {
   "cell_type": "code",
   "execution_count": 30,
   "id": "baaa37b5",
   "metadata": {},
   "outputs": [
    {
     "name": "stdout",
     "output_type": "stream",
     "text": [
      "Requirement already satisfied: numpy in d:\\anaconda\\lib\\site-packages (1.24.3)Note: you may need to restart the kernel to use updated packages.\n",
      "\n"
     ]
    }
   ],
   "source": [
    "pip install numpy "
   ]
  },
  {
   "cell_type": "code",
   "execution_count": 31,
   "id": "2991d008",
   "metadata": {},
   "outputs": [
    {
     "name": "stdout",
     "output_type": "stream",
     "text": [
      "Requirement already satisfied: tabulate in d:\\anaconda\\lib\\site-packages (0.8.10)\n",
      "Note: you may need to restart the kernel to use updated packages.\n"
     ]
    }
   ],
   "source": [
    "pip install tabulate"
   ]
  },
  {
   "cell_type": "code",
   "execution_count": 32,
   "id": "8dac8e55",
   "metadata": {},
   "outputs": [
    {
     "name": "stdout",
     "output_type": "stream",
     "text": [
      "Requirement already satisfied: matplotlib in d:\\anaconda\\lib\\site-packages (3.7.2)\n",
      "Requirement already satisfied: contourpy>=1.0.1 in d:\\anaconda\\lib\\site-packages (from matplotlib) (1.0.5)\n",
      "Requirement already satisfied: cycler>=0.10 in d:\\anaconda\\lib\\site-packages (from matplotlib) (0.11.0)\n",
      "Requirement already satisfied: fonttools>=4.22.0 in d:\\anaconda\\lib\\site-packages (from matplotlib) (4.25.0)\n",
      "Requirement already satisfied: kiwisolver>=1.0.1 in d:\\anaconda\\lib\\site-packages (from matplotlib) (1.4.4)\n",
      "Requirement already satisfied: numpy>=1.20 in d:\\anaconda\\lib\\site-packages (from matplotlib) (1.24.3)\n",
      "Requirement already satisfied: packaging>=20.0 in d:\\anaconda\\lib\\site-packages (from matplotlib) (23.1)\n",
      "Requirement already satisfied: pillow>=6.2.0 in d:\\anaconda\\lib\\site-packages (from matplotlib) (10.0.1)\n",
      "Requirement already satisfied: pyparsing<3.1,>=2.3.1 in d:\\anaconda\\lib\\site-packages (from matplotlib) (3.0.9)\n",
      "Requirement already satisfied: python-dateutil>=2.7 in d:\\anaconda\\lib\\site-packages (from matplotlib) (2.8.2)\n",
      "Requirement already satisfied: six>=1.5 in d:\\anaconda\\lib\\site-packages (from python-dateutil>=2.7->matplotlib) (1.16.0)\n",
      "Note: you may need to restart the kernel to use updated packages.\n"
     ]
    }
   ],
   "source": [
    "pip install matplotlib"
   ]
  },
  {
   "cell_type": "code",
   "execution_count": 33,
   "id": "d6ac6979",
   "metadata": {},
   "outputs": [
    {
     "name": "stdout",
     "output_type": "stream",
     "text": [
      "Note: you may need to restart the kernel to use updated packages.\n"
     ]
    },
    {
     "name": "stderr",
     "output_type": "stream",
     "text": [
      "ERROR: Could not find a version that satisfies the requirement ploty (from versions: none)\n",
      "ERROR: No matching distribution found for ploty\n"
     ]
    }
   ],
   "source": [
    "pip install ploty"
   ]
  },
  {
   "cell_type": "code",
   "execution_count": null,
   "id": "484367f0",
   "metadata": {},
   "outputs": [],
   "source": []
  },
  {
   "cell_type": "code",
   "execution_count": 35,
   "id": "cae9a657",
   "metadata": {},
   "outputs": [
    {
     "name": "stderr",
     "output_type": "stream",
     "text": [
      "C:\\Users\\user\\AppData\\Local\\Temp\\ipykernel_8804\\2452708158.py:11: UserWarning:\n",
      "\n",
      "Could not infer format, so each element will be parsed individually, falling back to `dateutil`. To ensure parsing is consistent and as-expected, please specify a format.\n",
      "\n"
     ]
    },
    {
     "data": {
      "application/vnd.plotly.v1+json": {
       "config": {
        "plotlyServerURL": "https://plot.ly"
       },
       "data": [
        {
         "mode": "lines",
         "name": "Close Price",
         "type": "scatter",
         "x": [
          "2023-01-18T00:00:00",
          "2023-01-19T00:00:00",
          "2023-01-20T00:00:00",
          "2023-01-23T00:00:00",
          "2023-01-24T00:00:00",
          "2023-01-25T00:00:00",
          "2023-01-27T00:00:00",
          "2023-01-30T00:00:00",
          "2023-01-31T00:00:00",
          "2023-01-02T00:00:00",
          "2023-02-02T00:00:00",
          "2023-03-02T00:00:00",
          "2023-06-02T00:00:00",
          "2023-07-02T00:00:00",
          "2023-08-02T00:00:00",
          "2023-09-02T00:00:00",
          "2023-10-02T00:00:00",
          "2023-02-13T00:00:00",
          "2023-02-14T00:00:00",
          "2023-02-15T00:00:00",
          "2023-02-16T00:00:00",
          "2023-02-17T00:00:00",
          "2023-02-20T00:00:00",
          "2023-02-21T00:00:00",
          "2023-02-22T00:00:00",
          "2023-02-23T00:00:00",
          "2023-02-24T00:00:00",
          "2023-02-27T00:00:00",
          "2023-02-28T00:00:00",
          "2023-01-03T00:00:00",
          "2023-02-03T00:00:00",
          "2023-03-03T00:00:00",
          "2023-06-03T00:00:00",
          "2023-08-03T00:00:00",
          "2023-09-03T00:00:00",
          "2023-10-03T00:00:00",
          "2023-03-13T00:00:00",
          "2023-03-14T00:00:00",
          "2023-03-15T00:00:00",
          "2023-03-16T00:00:00",
          "2023-03-17T00:00:00",
          "2023-03-20T00:00:00",
          "2023-03-21T00:00:00",
          "2023-03-22T00:00:00",
          "2023-03-23T00:00:00",
          "2023-03-24T00:00:00",
          "2023-03-27T00:00:00",
          "2023-03-28T00:00:00",
          "2023-03-29T00:00:00",
          "2023-03-31T00:00:00",
          "2023-03-04T00:00:00",
          "2023-05-04T00:00:00",
          "2023-06-04T00:00:00",
          "2023-10-04T00:00:00",
          "2023-11-04T00:00:00",
          "2023-12-04T00:00:00",
          "2023-04-13T00:00:00",
          "2023-04-17T00:00:00",
          "2023-04-18T00:00:00",
          "2023-04-19T00:00:00",
          "2023-04-20T00:00:00",
          "2023-04-21T00:00:00",
          "2023-04-24T00:00:00",
          "2023-04-25T00:00:00",
          "2023-04-26T00:00:00",
          "2023-04-27T00:00:00",
          "2023-04-28T00:00:00",
          "2023-02-05T00:00:00",
          "2023-03-05T00:00:00",
          "2023-04-05T00:00:00",
          "2023-05-05T00:00:00",
          "2023-08-05T00:00:00",
          "2023-09-05T00:00:00",
          "2023-10-05T00:00:00",
          "2023-11-05T00:00:00",
          "2023-12-05T00:00:00",
          "2023-05-15T00:00:00",
          "2023-05-16T00:00:00",
          "2023-05-17T00:00:00",
          "2023-05-18T00:00:00",
          "2023-05-19T00:00:00",
          "2023-05-22T00:00:00",
          "2023-05-23T00:00:00",
          "2023-05-24T00:00:00",
          "2023-05-25T00:00:00",
          "2023-05-26T00:00:00",
          "2023-05-29T00:00:00",
          "2023-05-30T00:00:00",
          "2023-05-31T00:00:00",
          "2023-01-06T00:00:00",
          "2023-02-06T00:00:00",
          "2023-05-06T00:00:00",
          "2023-06-06T00:00:00",
          "2023-07-06T00:00:00",
          "2023-08-06T00:00:00",
          "2023-09-06T00:00:00",
          "2023-12-06T00:00:00",
          "2023-06-13T00:00:00",
          "2023-06-14T00:00:00",
          "2023-06-15T00:00:00",
          "2023-06-16T00:00:00",
          "2023-06-19T00:00:00",
          "2023-06-20T00:00:00",
          "2023-06-21T00:00:00",
          "2023-06-22T00:00:00",
          "2023-06-23T00:00:00",
          "2023-06-26T00:00:00",
          "2023-06-27T00:00:00",
          "2023-06-28T00:00:00",
          "2023-06-30T00:00:00",
          "2023-03-07T00:00:00",
          "2023-04-07T00:00:00",
          "2023-05-07T00:00:00",
          "2023-06-07T00:00:00",
          "2023-07-07T00:00:00",
          "2023-10-07T00:00:00",
          "2023-11-07T00:00:00",
          "2023-12-07T00:00:00",
          "2023-07-13T00:00:00",
          "2023-07-14T00:00:00",
          "2023-07-17T00:00:00",
          "2023-07-18T00:00:00",
          "2023-07-19T00:00:00",
          "2023-07-20T00:00:00",
          "2023-07-21T00:00:00",
          "2023-07-24T00:00:00",
          "2023-07-25T00:00:00",
          "2023-07-26T00:00:00",
          "2023-07-27T00:00:00",
          "2023-07-28T00:00:00",
          "2023-07-31T00:00:00",
          "2023-01-08T00:00:00",
          "2023-02-08T00:00:00",
          "2023-03-08T00:00:00",
          "2023-04-08T00:00:00",
          "2023-07-08T00:00:00",
          "2023-08-08T00:00:00",
          "2023-09-08T00:00:00",
          "2023-10-08T00:00:00",
          "2023-11-08T00:00:00",
          "2023-08-14T00:00:00",
          "2023-08-16T00:00:00",
          "2023-08-17T00:00:00",
          "2023-08-18T00:00:00",
          "2023-08-21T00:00:00",
          "2023-08-22T00:00:00",
          "2023-08-23T00:00:00",
          "2023-08-24T00:00:00",
          "2023-08-25T00:00:00",
          "2023-08-28T00:00:00",
          "2023-08-29T00:00:00",
          "2023-08-30T00:00:00",
          "2023-08-31T00:00:00",
          "2023-01-09T00:00:00",
          "2023-04-09T00:00:00",
          "2023-05-09T00:00:00",
          "2023-06-09T00:00:00",
          "2023-07-09T00:00:00",
          "2023-08-09T00:00:00",
          "2023-11-09T00:00:00",
          "2023-12-09T00:00:00",
          "2023-09-13T00:00:00",
          "2023-09-14T00:00:00",
          "2023-09-15T00:00:00",
          "2023-09-18T00:00:00",
          "2023-09-20T00:00:00",
          "2023-09-21T00:00:00",
          "2023-09-22T00:00:00",
          "2023-09-25T00:00:00",
          "2023-09-26T00:00:00",
          "2023-09-27T00:00:00",
          "2023-09-28T00:00:00",
          "2023-09-29T00:00:00",
          "2023-03-10T00:00:00",
          "2023-04-10T00:00:00",
          "2023-05-10T00:00:00",
          "2023-06-10T00:00:00",
          "2023-09-10T00:00:00",
          "2023-10-10T00:00:00",
          "2023-11-10T00:00:00",
          "2023-12-10T00:00:00",
          "2023-10-13T00:00:00",
          "2023-10-16T00:00:00",
          "2023-10-17T00:00:00",
          "2023-10-18T00:00:00",
          "2023-10-19T00:00:00",
          "2023-10-20T00:00:00",
          "2023-10-23T00:00:00",
          "2023-10-25T00:00:00",
          "2023-10-26T00:00:00",
          "2023-10-27T00:00:00",
          "2023-10-30T00:00:00",
          "2023-10-31T00:00:00",
          "2023-01-11T00:00:00",
          "2023-02-11T00:00:00",
          "2023-03-11T00:00:00",
          "2023-06-11T00:00:00",
          "2023-07-11T00:00:00",
          "2023-08-11T00:00:00",
          "2023-09-11T00:00:00",
          "2023-10-11T00:00:00",
          "2023-12-11T00:00:00",
          "2023-11-13T00:00:00",
          "2023-11-15T00:00:00",
          "2023-11-16T00:00:00",
          "2023-11-17T00:00:00",
          "2023-11-20T00:00:00",
          "2023-11-21T00:00:00",
          "2023-11-22T00:00:00",
          "2023-11-23T00:00:00",
          "2023-11-24T00:00:00",
          "2023-11-28T00:00:00",
          "2023-11-29T00:00:00",
          "2023-11-30T00:00:00",
          "2023-01-12T00:00:00",
          "2023-04-12T00:00:00",
          "2023-05-12T00:00:00",
          "2023-06-12T00:00:00",
          "2023-07-12T00:00:00",
          "2023-08-12T00:00:00",
          "2023-11-12T00:00:00",
          "2023-12-12T00:00:00",
          "2023-12-13T00:00:00",
          "2023-12-14T00:00:00",
          "2023-12-15T00:00:00",
          "2023-12-18T00:00:00",
          "2023-12-19T00:00:00",
          "2023-12-20T00:00:00",
          "2023-12-21T00:00:00",
          "2023-12-22T00:00:00",
          "2023-12-26T00:00:00",
          "2023-12-27T00:00:00",
          "2023-12-28T00:00:00",
          "2023-12-29T00:00:00",
          "2024-01-01T00:00:00",
          "2024-02-01T00:00:00",
          "2024-03-01T00:00:00",
          "2024-04-01T00:00:00",
          "2024-05-01T00:00:00",
          "2024-08-01T00:00:00",
          "2024-09-01T00:00:00",
          "2024-10-01T00:00:00",
          "2024-11-01T00:00:00",
          "2024-12-01T00:00:00",
          "2024-01-15T00:00:00",
          "2024-01-16T00:00:00",
          "2024-01-17T00:00:00",
          "2024-01-18T00:00:00"
         ],
         "y": [
          90.7,
          92.1,
          91.5,
          93.1,
          91,
          89.9,
          88.15,
          86.85,
          90.6,
          89,
          89,
          85.95,
          84.45,
          82.45,
          84.55,
          85.35,
          84.55,
          83.35,
          84.2,
          84.15,
          85.8,
          86.15,
          86.05,
          87.15,
          84.55,
          84.9,
          82.95,
          83,
          82.75,
          85.25,
          86.3,
          87.8,
          87.45,
          87.4,
          87.75,
          88.1,
          86.95,
          86.8,
          87.65,
          85.3,
          88.65,
          86.6,
          87.05,
          85.05,
          85.85,
          82.35,
          81.2,
          80.8,
          82.55,
          82.7,
          83.8,
          82.5,
          82.1,
          82.45,
          82.45,
          82.7,
          81.55,
          82.3,
          82.3,
          82.65,
          83.2,
          81.6,
          82,
          81.95,
          81.2,
          81.7,
          82.8,
          84.6,
          85.15,
          85.7,
          82.7,
          84.3,
          84.2,
          83.95,
          84.1,
          83.05,
          84.25,
          84.05,
          82.8,
          82.5,
          82.15,
          82.05,
          82.6,
          82.5,
          82.25,
          82.1,
          84.3,
          83.2,
          82.5,
          82.2,
          83.6,
          83.7,
          83.2,
          84.75,
          84.05,
          82.9,
          83.55,
          84.1,
          84.75,
          84.8,
          85.15,
          85.9,
          86,
          85.85,
          85.15,
          84.4,
          84.45,
          85,
          85.2,
          85.5,
          87.5,
          87.25,
          88.05,
          87.8,
          86.8,
          90.05,
          90,
          89.6,
          89.85,
          91.25,
          91.6,
          90.3,
          90.8,
          89.9,
          90.15,
          89.9,
          92.25,
          92.2,
          92.5,
          92.7,
          94.6,
          95.6,
          92.95,
          92.9,
          94,
          94.05,
          92.6,
          92.95,
          92.9,
          91.1,
          87.1,
          84.9,
          84.9,
          84.35,
          86.05,
          85.7,
          86.05,
          86.55,
          85.65,
          86.95,
          88.45,
          91.4,
          90.7,
          96.95,
          102.75,
          101.75,
          99.3,
          99.55,
          98.9,
          99.95,
          93.75,
          96,
          98.65,
          96.35,
          96.9,
          95.35,
          94.35,
          93.2,
          93.1,
          93.5,
          92.9,
          91.8,
          93.85,
          91.7,
          89.25,
          88.65,
          88.85,
          86.35,
          88.8,
          88.6,
          89.35,
          88.9,
          89.2,
          89.5,
          87.75,
          88.5,
          86.9,
          83.35,
          84.15,
          83.25,
          83.95,
          83.85,
          83.85,
          82.9,
          85.05,
          84.9,
          86.85,
          85.3,
          85.95,
          87.15,
          88.1,
          89.5,
          88.2,
          88.4,
          88,
          89.3,
          90.35,
          90.65,
          89.25,
          89.85,
          89.2,
          90.95,
          91.2,
          92.3,
          93.15,
          94,
          95.75,
          99.35,
          98.95,
          98.1,
          100.8,
          100,
          103.25,
          110.95,
          111.45,
          115.45,
          111.05,
          103.7,
          109,
          112.75,
          113.55,
          115.45,
          122.85,
          123.65,
          124.7,
          123,
          119.1,
          118.65,
          116.95,
          114.3,
          114.2,
          115.05,
          113.5,
          114.9,
          114.65,
          119.55,
          113.1,
          113.05
         ]
        },
        {
         "marker": {
          "color": "red"
         },
         "mode": "markers",
         "name": "Anomalies",
         "type": "scatter",
         "x": [
          "2023-01-18T00:00:00",
          "2023-01-19T00:00:00",
          "2023-01-24T00:00:00",
          "2023-01-27T00:00:00",
          "2023-01-31T00:00:00",
          "2023-01-02T00:00:00",
          "2023-03-02T00:00:00",
          "2023-06-02T00:00:00",
          "2023-07-02T00:00:00",
          "2023-08-02T00:00:00",
          "2023-02-22T00:00:00",
          "2023-02-24T00:00:00",
          "2023-01-03T00:00:00",
          "2023-03-17T00:00:00",
          "2023-03-20T00:00:00",
          "2023-03-22T00:00:00",
          "2023-03-24T00:00:00",
          "2023-03-29T00:00:00",
          "2023-02-05T00:00:00",
          "2023-05-05T00:00:00",
          "2023-05-29T00:00:00",
          "2023-03-07T00:00:00",
          "2023-10-07T00:00:00",
          "2023-07-25T00:00:00",
          "2023-02-08T00:00:00",
          "2023-08-14T00:00:00",
          "2023-08-16T00:00:00",
          "2023-08-21T00:00:00",
          "2023-08-30T00:00:00",
          "2023-01-09T00:00:00",
          "2023-04-09T00:00:00",
          "2023-06-09T00:00:00",
          "2023-12-09T00:00:00",
          "2023-09-14T00:00:00",
          "2023-09-15T00:00:00",
          "2023-03-10T00:00:00",
          "2023-10-10T00:00:00",
          "2023-10-18T00:00:00",
          "2023-10-23T00:00:00",
          "2023-11-22T00:00:00",
          "2023-05-12T00:00:00",
          "2023-06-12T00:00:00",
          "2023-11-12T00:00:00",
          "2023-12-13T00:00:00",
          "2023-12-14T00:00:00",
          "2023-12-18T00:00:00",
          "2023-12-19T00:00:00",
          "2023-12-20T00:00:00",
          "2023-12-21T00:00:00",
          "2023-12-22T00:00:00",
          "2023-12-28T00:00:00",
          "2024-03-01T00:00:00",
          "2024-05-01T00:00:00",
          "2024-08-01T00:00:00",
          "2024-11-01T00:00:00",
          "2024-01-16T00:00:00",
          "2024-01-17T00:00:00"
         ],
         "y": [
          90.7,
          92.1,
          91,
          88.15,
          90.6,
          89,
          85.95,
          84.45,
          82.45,
          84.55,
          84.55,
          82.95,
          85.25,
          88.65,
          86.6,
          85.05,
          82.35,
          82.55,
          84.6,
          82.7,
          84.3,
          87.5,
          90.05,
          92.25,
          92.95,
          87.1,
          84.9,
          86.05,
          91.4,
          96.95,
          102.75,
          99.3,
          93.75,
          98.65,
          96.35,
          91.7,
          88.8,
          87.75,
          83.35,
          89.25,
          95.75,
          99.35,
          100.8,
          103.25,
          110.95,
          115.45,
          111.05,
          103.7,
          109,
          112.75,
          122.85,
          119.1,
          116.95,
          114.3,
          113.5,
          119.55,
          113.1
         ]
        }
       ],
       "layout": {
        "template": {
         "data": {
          "bar": [
           {
            "error_x": {
             "color": "#2a3f5f"
            },
            "error_y": {
             "color": "#2a3f5f"
            },
            "marker": {
             "line": {
              "color": "#E5ECF6",
              "width": 0.5
             },
             "pattern": {
              "fillmode": "overlay",
              "size": 10,
              "solidity": 0.2
             }
            },
            "type": "bar"
           }
          ],
          "barpolar": [
           {
            "marker": {
             "line": {
              "color": "#E5ECF6",
              "width": 0.5
             },
             "pattern": {
              "fillmode": "overlay",
              "size": 10,
              "solidity": 0.2
             }
            },
            "type": "barpolar"
           }
          ],
          "carpet": [
           {
            "aaxis": {
             "endlinecolor": "#2a3f5f",
             "gridcolor": "white",
             "linecolor": "white",
             "minorgridcolor": "white",
             "startlinecolor": "#2a3f5f"
            },
            "baxis": {
             "endlinecolor": "#2a3f5f",
             "gridcolor": "white",
             "linecolor": "white",
             "minorgridcolor": "white",
             "startlinecolor": "#2a3f5f"
            },
            "type": "carpet"
           }
          ],
          "choropleth": [
           {
            "colorbar": {
             "outlinewidth": 0,
             "ticks": ""
            },
            "type": "choropleth"
           }
          ],
          "contour": [
           {
            "colorbar": {
             "outlinewidth": 0,
             "ticks": ""
            },
            "colorscale": [
             [
              0,
              "#0d0887"
             ],
             [
              0.1111111111111111,
              "#46039f"
             ],
             [
              0.2222222222222222,
              "#7201a8"
             ],
             [
              0.3333333333333333,
              "#9c179e"
             ],
             [
              0.4444444444444444,
              "#bd3786"
             ],
             [
              0.5555555555555556,
              "#d8576b"
             ],
             [
              0.6666666666666666,
              "#ed7953"
             ],
             [
              0.7777777777777778,
              "#fb9f3a"
             ],
             [
              0.8888888888888888,
              "#fdca26"
             ],
             [
              1,
              "#f0f921"
             ]
            ],
            "type": "contour"
           }
          ],
          "contourcarpet": [
           {
            "colorbar": {
             "outlinewidth": 0,
             "ticks": ""
            },
            "type": "contourcarpet"
           }
          ],
          "heatmap": [
           {
            "colorbar": {
             "outlinewidth": 0,
             "ticks": ""
            },
            "colorscale": [
             [
              0,
              "#0d0887"
             ],
             [
              0.1111111111111111,
              "#46039f"
             ],
             [
              0.2222222222222222,
              "#7201a8"
             ],
             [
              0.3333333333333333,
              "#9c179e"
             ],
             [
              0.4444444444444444,
              "#bd3786"
             ],
             [
              0.5555555555555556,
              "#d8576b"
             ],
             [
              0.6666666666666666,
              "#ed7953"
             ],
             [
              0.7777777777777778,
              "#fb9f3a"
             ],
             [
              0.8888888888888888,
              "#fdca26"
             ],
             [
              1,
              "#f0f921"
             ]
            ],
            "type": "heatmap"
           }
          ],
          "heatmapgl": [
           {
            "colorbar": {
             "outlinewidth": 0,
             "ticks": ""
            },
            "colorscale": [
             [
              0,
              "#0d0887"
             ],
             [
              0.1111111111111111,
              "#46039f"
             ],
             [
              0.2222222222222222,
              "#7201a8"
             ],
             [
              0.3333333333333333,
              "#9c179e"
             ],
             [
              0.4444444444444444,
              "#bd3786"
             ],
             [
              0.5555555555555556,
              "#d8576b"
             ],
             [
              0.6666666666666666,
              "#ed7953"
             ],
             [
              0.7777777777777778,
              "#fb9f3a"
             ],
             [
              0.8888888888888888,
              "#fdca26"
             ],
             [
              1,
              "#f0f921"
             ]
            ],
            "type": "heatmapgl"
           }
          ],
          "histogram": [
           {
            "marker": {
             "pattern": {
              "fillmode": "overlay",
              "size": 10,
              "solidity": 0.2
             }
            },
            "type": "histogram"
           }
          ],
          "histogram2d": [
           {
            "colorbar": {
             "outlinewidth": 0,
             "ticks": ""
            },
            "colorscale": [
             [
              0,
              "#0d0887"
             ],
             [
              0.1111111111111111,
              "#46039f"
             ],
             [
              0.2222222222222222,
              "#7201a8"
             ],
             [
              0.3333333333333333,
              "#9c179e"
             ],
             [
              0.4444444444444444,
              "#bd3786"
             ],
             [
              0.5555555555555556,
              "#d8576b"
             ],
             [
              0.6666666666666666,
              "#ed7953"
             ],
             [
              0.7777777777777778,
              "#fb9f3a"
             ],
             [
              0.8888888888888888,
              "#fdca26"
             ],
             [
              1,
              "#f0f921"
             ]
            ],
            "type": "histogram2d"
           }
          ],
          "histogram2dcontour": [
           {
            "colorbar": {
             "outlinewidth": 0,
             "ticks": ""
            },
            "colorscale": [
             [
              0,
              "#0d0887"
             ],
             [
              0.1111111111111111,
              "#46039f"
             ],
             [
              0.2222222222222222,
              "#7201a8"
             ],
             [
              0.3333333333333333,
              "#9c179e"
             ],
             [
              0.4444444444444444,
              "#bd3786"
             ],
             [
              0.5555555555555556,
              "#d8576b"
             ],
             [
              0.6666666666666666,
              "#ed7953"
             ],
             [
              0.7777777777777778,
              "#fb9f3a"
             ],
             [
              0.8888888888888888,
              "#fdca26"
             ],
             [
              1,
              "#f0f921"
             ]
            ],
            "type": "histogram2dcontour"
           }
          ],
          "mesh3d": [
           {
            "colorbar": {
             "outlinewidth": 0,
             "ticks": ""
            },
            "type": "mesh3d"
           }
          ],
          "parcoords": [
           {
            "line": {
             "colorbar": {
              "outlinewidth": 0,
              "ticks": ""
             }
            },
            "type": "parcoords"
           }
          ],
          "pie": [
           {
            "automargin": true,
            "type": "pie"
           }
          ],
          "scatter": [
           {
            "fillpattern": {
             "fillmode": "overlay",
             "size": 10,
             "solidity": 0.2
            },
            "type": "scatter"
           }
          ],
          "scatter3d": [
           {
            "line": {
             "colorbar": {
              "outlinewidth": 0,
              "ticks": ""
             }
            },
            "marker": {
             "colorbar": {
              "outlinewidth": 0,
              "ticks": ""
             }
            },
            "type": "scatter3d"
           }
          ],
          "scattercarpet": [
           {
            "marker": {
             "colorbar": {
              "outlinewidth": 0,
              "ticks": ""
             }
            },
            "type": "scattercarpet"
           }
          ],
          "scattergeo": [
           {
            "marker": {
             "colorbar": {
              "outlinewidth": 0,
              "ticks": ""
             }
            },
            "type": "scattergeo"
           }
          ],
          "scattergl": [
           {
            "marker": {
             "colorbar": {
              "outlinewidth": 0,
              "ticks": ""
             }
            },
            "type": "scattergl"
           }
          ],
          "scattermapbox": [
           {
            "marker": {
             "colorbar": {
              "outlinewidth": 0,
              "ticks": ""
             }
            },
            "type": "scattermapbox"
           }
          ],
          "scatterpolar": [
           {
            "marker": {
             "colorbar": {
              "outlinewidth": 0,
              "ticks": ""
             }
            },
            "type": "scatterpolar"
           }
          ],
          "scatterpolargl": [
           {
            "marker": {
             "colorbar": {
              "outlinewidth": 0,
              "ticks": ""
             }
            },
            "type": "scatterpolargl"
           }
          ],
          "scatterternary": [
           {
            "marker": {
             "colorbar": {
              "outlinewidth": 0,
              "ticks": ""
             }
            },
            "type": "scatterternary"
           }
          ],
          "surface": [
           {
            "colorbar": {
             "outlinewidth": 0,
             "ticks": ""
            },
            "colorscale": [
             [
              0,
              "#0d0887"
             ],
             [
              0.1111111111111111,
              "#46039f"
             ],
             [
              0.2222222222222222,
              "#7201a8"
             ],
             [
              0.3333333333333333,
              "#9c179e"
             ],
             [
              0.4444444444444444,
              "#bd3786"
             ],
             [
              0.5555555555555556,
              "#d8576b"
             ],
             [
              0.6666666666666666,
              "#ed7953"
             ],
             [
              0.7777777777777778,
              "#fb9f3a"
             ],
             [
              0.8888888888888888,
              "#fdca26"
             ],
             [
              1,
              "#f0f921"
             ]
            ],
            "type": "surface"
           }
          ],
          "table": [
           {
            "cells": {
             "fill": {
              "color": "#EBF0F8"
             },
             "line": {
              "color": "white"
             }
            },
            "header": {
             "fill": {
              "color": "#C8D4E3"
             },
             "line": {
              "color": "white"
             }
            },
            "type": "table"
           }
          ]
         },
         "layout": {
          "annotationdefaults": {
           "arrowcolor": "#2a3f5f",
           "arrowhead": 0,
           "arrowwidth": 1
          },
          "autotypenumbers": "strict",
          "coloraxis": {
           "colorbar": {
            "outlinewidth": 0,
            "ticks": ""
           }
          },
          "colorscale": {
           "diverging": [
            [
             0,
             "#8e0152"
            ],
            [
             0.1,
             "#c51b7d"
            ],
            [
             0.2,
             "#de77ae"
            ],
            [
             0.3,
             "#f1b6da"
            ],
            [
             0.4,
             "#fde0ef"
            ],
            [
             0.5,
             "#f7f7f7"
            ],
            [
             0.6,
             "#e6f5d0"
            ],
            [
             0.7,
             "#b8e186"
            ],
            [
             0.8,
             "#7fbc41"
            ],
            [
             0.9,
             "#4d9221"
            ],
            [
             1,
             "#276419"
            ]
           ],
           "sequential": [
            [
             0,
             "#0d0887"
            ],
            [
             0.1111111111111111,
             "#46039f"
            ],
            [
             0.2222222222222222,
             "#7201a8"
            ],
            [
             0.3333333333333333,
             "#9c179e"
            ],
            [
             0.4444444444444444,
             "#bd3786"
            ],
            [
             0.5555555555555556,
             "#d8576b"
            ],
            [
             0.6666666666666666,
             "#ed7953"
            ],
            [
             0.7777777777777778,
             "#fb9f3a"
            ],
            [
             0.8888888888888888,
             "#fdca26"
            ],
            [
             1,
             "#f0f921"
            ]
           ],
           "sequentialminus": [
            [
             0,
             "#0d0887"
            ],
            [
             0.1111111111111111,
             "#46039f"
            ],
            [
             0.2222222222222222,
             "#7201a8"
            ],
            [
             0.3333333333333333,
             "#9c179e"
            ],
            [
             0.4444444444444444,
             "#bd3786"
            ],
            [
             0.5555555555555556,
             "#d8576b"
            ],
            [
             0.6666666666666666,
             "#ed7953"
            ],
            [
             0.7777777777777778,
             "#fb9f3a"
            ],
            [
             0.8888888888888888,
             "#fdca26"
            ],
            [
             1,
             "#f0f921"
            ]
           ]
          },
          "colorway": [
           "#636efa",
           "#EF553B",
           "#00cc96",
           "#ab63fa",
           "#FFA15A",
           "#19d3f3",
           "#FF6692",
           "#B6E880",
           "#FF97FF",
           "#FECB52"
          ],
          "font": {
           "color": "#2a3f5f"
          },
          "geo": {
           "bgcolor": "white",
           "lakecolor": "white",
           "landcolor": "#E5ECF6",
           "showlakes": true,
           "showland": true,
           "subunitcolor": "white"
          },
          "hoverlabel": {
           "align": "left"
          },
          "hovermode": "closest",
          "mapbox": {
           "style": "light"
          },
          "paper_bgcolor": "white",
          "plot_bgcolor": "#E5ECF6",
          "polar": {
           "angularaxis": {
            "gridcolor": "white",
            "linecolor": "white",
            "ticks": ""
           },
           "bgcolor": "#E5ECF6",
           "radialaxis": {
            "gridcolor": "white",
            "linecolor": "white",
            "ticks": ""
           }
          },
          "scene": {
           "xaxis": {
            "backgroundcolor": "#E5ECF6",
            "gridcolor": "white",
            "gridwidth": 2,
            "linecolor": "white",
            "showbackground": true,
            "ticks": "",
            "zerolinecolor": "white"
           },
           "yaxis": {
            "backgroundcolor": "#E5ECF6",
            "gridcolor": "white",
            "gridwidth": 2,
            "linecolor": "white",
            "showbackground": true,
            "ticks": "",
            "zerolinecolor": "white"
           },
           "zaxis": {
            "backgroundcolor": "#E5ECF6",
            "gridcolor": "white",
            "gridwidth": 2,
            "linecolor": "white",
            "showbackground": true,
            "ticks": "",
            "zerolinecolor": "white"
           }
          },
          "shapedefaults": {
           "line": {
            "color": "#2a3f5f"
           }
          },
          "ternary": {
           "aaxis": {
            "gridcolor": "white",
            "linecolor": "white",
            "ticks": ""
           },
           "baxis": {
            "gridcolor": "white",
            "linecolor": "white",
            "ticks": ""
           },
           "bgcolor": "#E5ECF6",
           "caxis": {
            "gridcolor": "white",
            "linecolor": "white",
            "ticks": ""
           }
          },
          "title": {
           "x": 0.05
          },
          "xaxis": {
           "automargin": true,
           "gridcolor": "white",
           "linecolor": "white",
           "ticks": "",
           "title": {
            "standoff": 15
           },
           "zerolinecolor": "white",
           "zerolinewidth": 2
          },
          "yaxis": {
           "automargin": true,
           "gridcolor": "white",
           "linecolor": "white",
           "ticks": "",
           "title": {
            "standoff": 15
           },
           "zerolinecolor": "white",
           "zerolinewidth": 2
          }
         }
        },
        "title": {
         "text": "Stock Price with Anomalies Detected in Daily Returns"
        },
        "xaxis": {
         "tickformat": "%Y",
         "tickmode": "array",
         "ticktext": [
          2023,
          2024
         ],
         "tickvals": [
          2023,
          2024
         ],
         "title": {
          "text": "Year"
         },
         "type": "category"
        },
        "yaxis": {
         "title": {
          "text": "Close Price"
         }
        }
       }
      },
      "text/html": [
       "<div>                            <div id=\"bb0c11fe-e185-4453-8f06-b7fa0a1414c5\" class=\"plotly-graph-div\" style=\"height:525px; width:100%;\"></div>            <script type=\"text/javascript\">                require([\"plotly\"], function(Plotly) {                    window.PLOTLYENV=window.PLOTLYENV || {};                                    if (document.getElementById(\"bb0c11fe-e185-4453-8f06-b7fa0a1414c5\")) {                    Plotly.newPlot(                        \"bb0c11fe-e185-4453-8f06-b7fa0a1414c5\",                        [{\"mode\":\"lines\",\"name\":\"Close Price\",\"x\":[\"2023-01-18T00:00:00\",\"2023-01-19T00:00:00\",\"2023-01-20T00:00:00\",\"2023-01-23T00:00:00\",\"2023-01-24T00:00:00\",\"2023-01-25T00:00:00\",\"2023-01-27T00:00:00\",\"2023-01-30T00:00:00\",\"2023-01-31T00:00:00\",\"2023-01-02T00:00:00\",\"2023-02-02T00:00:00\",\"2023-03-02T00:00:00\",\"2023-06-02T00:00:00\",\"2023-07-02T00:00:00\",\"2023-08-02T00:00:00\",\"2023-09-02T00:00:00\",\"2023-10-02T00:00:00\",\"2023-02-13T00:00:00\",\"2023-02-14T00:00:00\",\"2023-02-15T00:00:00\",\"2023-02-16T00:00:00\",\"2023-02-17T00:00:00\",\"2023-02-20T00:00:00\",\"2023-02-21T00:00:00\",\"2023-02-22T00:00:00\",\"2023-02-23T00:00:00\",\"2023-02-24T00:00:00\",\"2023-02-27T00:00:00\",\"2023-02-28T00:00:00\",\"2023-01-03T00:00:00\",\"2023-02-03T00:00:00\",\"2023-03-03T00:00:00\",\"2023-06-03T00:00:00\",\"2023-08-03T00:00:00\",\"2023-09-03T00:00:00\",\"2023-10-03T00:00:00\",\"2023-03-13T00:00:00\",\"2023-03-14T00:00:00\",\"2023-03-15T00:00:00\",\"2023-03-16T00:00:00\",\"2023-03-17T00:00:00\",\"2023-03-20T00:00:00\",\"2023-03-21T00:00:00\",\"2023-03-22T00:00:00\",\"2023-03-23T00:00:00\",\"2023-03-24T00:00:00\",\"2023-03-27T00:00:00\",\"2023-03-28T00:00:00\",\"2023-03-29T00:00:00\",\"2023-03-31T00:00:00\",\"2023-03-04T00:00:00\",\"2023-05-04T00:00:00\",\"2023-06-04T00:00:00\",\"2023-10-04T00:00:00\",\"2023-11-04T00:00:00\",\"2023-12-04T00:00:00\",\"2023-04-13T00:00:00\",\"2023-04-17T00:00:00\",\"2023-04-18T00:00:00\",\"2023-04-19T00:00:00\",\"2023-04-20T00:00:00\",\"2023-04-21T00:00:00\",\"2023-04-24T00:00:00\",\"2023-04-25T00:00:00\",\"2023-04-26T00:00:00\",\"2023-04-27T00:00:00\",\"2023-04-28T00:00:00\",\"2023-02-05T00:00:00\",\"2023-03-05T00:00:00\",\"2023-04-05T00:00:00\",\"2023-05-05T00:00:00\",\"2023-08-05T00:00:00\",\"2023-09-05T00:00:00\",\"2023-10-05T00:00:00\",\"2023-11-05T00:00:00\",\"2023-12-05T00:00:00\",\"2023-05-15T00:00:00\",\"2023-05-16T00:00:00\",\"2023-05-17T00:00:00\",\"2023-05-18T00:00:00\",\"2023-05-19T00:00:00\",\"2023-05-22T00:00:00\",\"2023-05-23T00:00:00\",\"2023-05-24T00:00:00\",\"2023-05-25T00:00:00\",\"2023-05-26T00:00:00\",\"2023-05-29T00:00:00\",\"2023-05-30T00:00:00\",\"2023-05-31T00:00:00\",\"2023-01-06T00:00:00\",\"2023-02-06T00:00:00\",\"2023-05-06T00:00:00\",\"2023-06-06T00:00:00\",\"2023-07-06T00:00:00\",\"2023-08-06T00:00:00\",\"2023-09-06T00:00:00\",\"2023-12-06T00:00:00\",\"2023-06-13T00:00:00\",\"2023-06-14T00:00:00\",\"2023-06-15T00:00:00\",\"2023-06-16T00:00:00\",\"2023-06-19T00:00:00\",\"2023-06-20T00:00:00\",\"2023-06-21T00:00:00\",\"2023-06-22T00:00:00\",\"2023-06-23T00:00:00\",\"2023-06-26T00:00:00\",\"2023-06-27T00:00:00\",\"2023-06-28T00:00:00\",\"2023-06-30T00:00:00\",\"2023-03-07T00:00:00\",\"2023-04-07T00:00:00\",\"2023-05-07T00:00:00\",\"2023-06-07T00:00:00\",\"2023-07-07T00:00:00\",\"2023-10-07T00:00:00\",\"2023-11-07T00:00:00\",\"2023-12-07T00:00:00\",\"2023-07-13T00:00:00\",\"2023-07-14T00:00:00\",\"2023-07-17T00:00:00\",\"2023-07-18T00:00:00\",\"2023-07-19T00:00:00\",\"2023-07-20T00:00:00\",\"2023-07-21T00:00:00\",\"2023-07-24T00:00:00\",\"2023-07-25T00:00:00\",\"2023-07-26T00:00:00\",\"2023-07-27T00:00:00\",\"2023-07-28T00:00:00\",\"2023-07-31T00:00:00\",\"2023-01-08T00:00:00\",\"2023-02-08T00:00:00\",\"2023-03-08T00:00:00\",\"2023-04-08T00:00:00\",\"2023-07-08T00:00:00\",\"2023-08-08T00:00:00\",\"2023-09-08T00:00:00\",\"2023-10-08T00:00:00\",\"2023-11-08T00:00:00\",\"2023-08-14T00:00:00\",\"2023-08-16T00:00:00\",\"2023-08-17T00:00:00\",\"2023-08-18T00:00:00\",\"2023-08-21T00:00:00\",\"2023-08-22T00:00:00\",\"2023-08-23T00:00:00\",\"2023-08-24T00:00:00\",\"2023-08-25T00:00:00\",\"2023-08-28T00:00:00\",\"2023-08-29T00:00:00\",\"2023-08-30T00:00:00\",\"2023-08-31T00:00:00\",\"2023-01-09T00:00:00\",\"2023-04-09T00:00:00\",\"2023-05-09T00:00:00\",\"2023-06-09T00:00:00\",\"2023-07-09T00:00:00\",\"2023-08-09T00:00:00\",\"2023-11-09T00:00:00\",\"2023-12-09T00:00:00\",\"2023-09-13T00:00:00\",\"2023-09-14T00:00:00\",\"2023-09-15T00:00:00\",\"2023-09-18T00:00:00\",\"2023-09-20T00:00:00\",\"2023-09-21T00:00:00\",\"2023-09-22T00:00:00\",\"2023-09-25T00:00:00\",\"2023-09-26T00:00:00\",\"2023-09-27T00:00:00\",\"2023-09-28T00:00:00\",\"2023-09-29T00:00:00\",\"2023-03-10T00:00:00\",\"2023-04-10T00:00:00\",\"2023-05-10T00:00:00\",\"2023-06-10T00:00:00\",\"2023-09-10T00:00:00\",\"2023-10-10T00:00:00\",\"2023-11-10T00:00:00\",\"2023-12-10T00:00:00\",\"2023-10-13T00:00:00\",\"2023-10-16T00:00:00\",\"2023-10-17T00:00:00\",\"2023-10-18T00:00:00\",\"2023-10-19T00:00:00\",\"2023-10-20T00:00:00\",\"2023-10-23T00:00:00\",\"2023-10-25T00:00:00\",\"2023-10-26T00:00:00\",\"2023-10-27T00:00:00\",\"2023-10-30T00:00:00\",\"2023-10-31T00:00:00\",\"2023-01-11T00:00:00\",\"2023-02-11T00:00:00\",\"2023-03-11T00:00:00\",\"2023-06-11T00:00:00\",\"2023-07-11T00:00:00\",\"2023-08-11T00:00:00\",\"2023-09-11T00:00:00\",\"2023-10-11T00:00:00\",\"2023-12-11T00:00:00\",\"2023-11-13T00:00:00\",\"2023-11-15T00:00:00\",\"2023-11-16T00:00:00\",\"2023-11-17T00:00:00\",\"2023-11-20T00:00:00\",\"2023-11-21T00:00:00\",\"2023-11-22T00:00:00\",\"2023-11-23T00:00:00\",\"2023-11-24T00:00:00\",\"2023-11-28T00:00:00\",\"2023-11-29T00:00:00\",\"2023-11-30T00:00:00\",\"2023-01-12T00:00:00\",\"2023-04-12T00:00:00\",\"2023-05-12T00:00:00\",\"2023-06-12T00:00:00\",\"2023-07-12T00:00:00\",\"2023-08-12T00:00:00\",\"2023-11-12T00:00:00\",\"2023-12-12T00:00:00\",\"2023-12-13T00:00:00\",\"2023-12-14T00:00:00\",\"2023-12-15T00:00:00\",\"2023-12-18T00:00:00\",\"2023-12-19T00:00:00\",\"2023-12-20T00:00:00\",\"2023-12-21T00:00:00\",\"2023-12-22T00:00:00\",\"2023-12-26T00:00:00\",\"2023-12-27T00:00:00\",\"2023-12-28T00:00:00\",\"2023-12-29T00:00:00\",\"2024-01-01T00:00:00\",\"2024-02-01T00:00:00\",\"2024-03-01T00:00:00\",\"2024-04-01T00:00:00\",\"2024-05-01T00:00:00\",\"2024-08-01T00:00:00\",\"2024-09-01T00:00:00\",\"2024-10-01T00:00:00\",\"2024-11-01T00:00:00\",\"2024-12-01T00:00:00\",\"2024-01-15T00:00:00\",\"2024-01-16T00:00:00\",\"2024-01-17T00:00:00\",\"2024-01-18T00:00:00\"],\"y\":[90.7,92.1,91.5,93.1,91.0,89.9,88.15,86.85,90.6,89.0,89.0,85.95,84.45,82.45,84.55,85.35,84.55,83.35,84.2,84.15,85.8,86.15,86.05,87.15,84.55,84.9,82.95,83.0,82.75,85.25,86.3,87.8,87.45,87.4,87.75,88.1,86.95,86.8,87.65,85.3,88.65,86.6,87.05,85.05,85.85,82.35,81.2,80.8,82.55,82.7,83.8,82.5,82.1,82.45,82.45,82.7,81.55,82.3,82.3,82.65,83.2,81.6,82.0,81.95,81.2,81.7,82.8,84.6,85.15,85.7,82.7,84.3,84.2,83.95,84.1,83.05,84.25,84.05,82.8,82.5,82.15,82.05,82.6,82.5,82.25,82.1,84.3,83.2,82.5,82.2,83.6,83.7,83.2,84.75,84.05,82.9,83.55,84.1,84.75,84.8,85.15,85.9,86.0,85.85,85.15,84.4,84.45,85.0,85.2,85.5,87.5,87.25,88.05,87.8,86.8,90.05,90.0,89.6,89.85,91.25,91.6,90.3,90.8,89.9,90.15,89.9,92.25,92.2,92.5,92.7,94.6,95.6,92.95,92.9,94.0,94.05,92.6,92.95,92.9,91.1,87.1,84.9,84.9,84.35,86.05,85.7,86.05,86.55,85.65,86.95,88.45,91.4,90.7,96.95,102.75,101.75,99.3,99.55,98.9,99.95,93.75,96.0,98.65,96.35,96.9,95.35,94.35,93.2,93.1,93.5,92.9,91.8,93.85,91.7,89.25,88.65,88.85,86.35,88.8,88.6,89.35,88.9,89.2,89.5,87.75,88.5,86.9,83.35,84.15,83.25,83.95,83.85,83.85,82.9,85.05,84.9,86.85,85.3,85.95,87.15,88.1,89.5,88.2,88.4,88.0,89.3,90.35,90.65,89.25,89.85,89.2,90.95,91.2,92.3,93.15,94.0,95.75,99.35,98.95,98.1,100.8,100.0,103.25,110.95,111.45,115.45,111.05,103.7,109.0,112.75,113.55,115.45,122.85,123.65,124.7,123.0,119.1,118.65,116.95,114.3,114.2,115.05,113.5,114.9,114.65,119.55,113.1,113.05],\"type\":\"scatter\"},{\"marker\":{\"color\":\"red\"},\"mode\":\"markers\",\"name\":\"Anomalies\",\"x\":[\"2023-01-18T00:00:00\",\"2023-01-19T00:00:00\",\"2023-01-24T00:00:00\",\"2023-01-27T00:00:00\",\"2023-01-31T00:00:00\",\"2023-01-02T00:00:00\",\"2023-03-02T00:00:00\",\"2023-06-02T00:00:00\",\"2023-07-02T00:00:00\",\"2023-08-02T00:00:00\",\"2023-02-22T00:00:00\",\"2023-02-24T00:00:00\",\"2023-01-03T00:00:00\",\"2023-03-17T00:00:00\",\"2023-03-20T00:00:00\",\"2023-03-22T00:00:00\",\"2023-03-24T00:00:00\",\"2023-03-29T00:00:00\",\"2023-02-05T00:00:00\",\"2023-05-05T00:00:00\",\"2023-05-29T00:00:00\",\"2023-03-07T00:00:00\",\"2023-10-07T00:00:00\",\"2023-07-25T00:00:00\",\"2023-02-08T00:00:00\",\"2023-08-14T00:00:00\",\"2023-08-16T00:00:00\",\"2023-08-21T00:00:00\",\"2023-08-30T00:00:00\",\"2023-01-09T00:00:00\",\"2023-04-09T00:00:00\",\"2023-06-09T00:00:00\",\"2023-12-09T00:00:00\",\"2023-09-14T00:00:00\",\"2023-09-15T00:00:00\",\"2023-03-10T00:00:00\",\"2023-10-10T00:00:00\",\"2023-10-18T00:00:00\",\"2023-10-23T00:00:00\",\"2023-11-22T00:00:00\",\"2023-05-12T00:00:00\",\"2023-06-12T00:00:00\",\"2023-11-12T00:00:00\",\"2023-12-13T00:00:00\",\"2023-12-14T00:00:00\",\"2023-12-18T00:00:00\",\"2023-12-19T00:00:00\",\"2023-12-20T00:00:00\",\"2023-12-21T00:00:00\",\"2023-12-22T00:00:00\",\"2023-12-28T00:00:00\",\"2024-03-01T00:00:00\",\"2024-05-01T00:00:00\",\"2024-08-01T00:00:00\",\"2024-11-01T00:00:00\",\"2024-01-16T00:00:00\",\"2024-01-17T00:00:00\"],\"y\":[90.7,92.1,91.0,88.15,90.6,89.0,85.95,84.45,82.45,84.55,84.55,82.95,85.25,88.65,86.6,85.05,82.35,82.55,84.6,82.7,84.3,87.5,90.05,92.25,92.95,87.1,84.9,86.05,91.4,96.95,102.75,99.3,93.75,98.65,96.35,91.7,88.8,87.75,83.35,89.25,95.75,99.35,100.8,103.25,110.95,115.45,111.05,103.7,109.0,112.75,122.85,119.1,116.95,114.3,113.5,119.55,113.1],\"type\":\"scatter\"}],                        {\"template\":{\"data\":{\"histogram2dcontour\":[{\"type\":\"histogram2dcontour\",\"colorbar\":{\"outlinewidth\":0,\"ticks\":\"\"},\"colorscale\":[[0.0,\"#0d0887\"],[0.1111111111111111,\"#46039f\"],[0.2222222222222222,\"#7201a8\"],[0.3333333333333333,\"#9c179e\"],[0.4444444444444444,\"#bd3786\"],[0.5555555555555556,\"#d8576b\"],[0.6666666666666666,\"#ed7953\"],[0.7777777777777778,\"#fb9f3a\"],[0.8888888888888888,\"#fdca26\"],[1.0,\"#f0f921\"]]}],\"choropleth\":[{\"type\":\"choropleth\",\"colorbar\":{\"outlinewidth\":0,\"ticks\":\"\"}}],\"histogram2d\":[{\"type\":\"histogram2d\",\"colorbar\":{\"outlinewidth\":0,\"ticks\":\"\"},\"colorscale\":[[0.0,\"#0d0887\"],[0.1111111111111111,\"#46039f\"],[0.2222222222222222,\"#7201a8\"],[0.3333333333333333,\"#9c179e\"],[0.4444444444444444,\"#bd3786\"],[0.5555555555555556,\"#d8576b\"],[0.6666666666666666,\"#ed7953\"],[0.7777777777777778,\"#fb9f3a\"],[0.8888888888888888,\"#fdca26\"],[1.0,\"#f0f921\"]]}],\"heatmap\":[{\"type\":\"heatmap\",\"colorbar\":{\"outlinewidth\":0,\"ticks\":\"\"},\"colorscale\":[[0.0,\"#0d0887\"],[0.1111111111111111,\"#46039f\"],[0.2222222222222222,\"#7201a8\"],[0.3333333333333333,\"#9c179e\"],[0.4444444444444444,\"#bd3786\"],[0.5555555555555556,\"#d8576b\"],[0.6666666666666666,\"#ed7953\"],[0.7777777777777778,\"#fb9f3a\"],[0.8888888888888888,\"#fdca26\"],[1.0,\"#f0f921\"]]}],\"heatmapgl\":[{\"type\":\"heatmapgl\",\"colorbar\":{\"outlinewidth\":0,\"ticks\":\"\"},\"colorscale\":[[0.0,\"#0d0887\"],[0.1111111111111111,\"#46039f\"],[0.2222222222222222,\"#7201a8\"],[0.3333333333333333,\"#9c179e\"],[0.4444444444444444,\"#bd3786\"],[0.5555555555555556,\"#d8576b\"],[0.6666666666666666,\"#ed7953\"],[0.7777777777777778,\"#fb9f3a\"],[0.8888888888888888,\"#fdca26\"],[1.0,\"#f0f921\"]]}],\"contourcarpet\":[{\"type\":\"contourcarpet\",\"colorbar\":{\"outlinewidth\":0,\"ticks\":\"\"}}],\"contour\":[{\"type\":\"contour\",\"colorbar\":{\"outlinewidth\":0,\"ticks\":\"\"},\"colorscale\":[[0.0,\"#0d0887\"],[0.1111111111111111,\"#46039f\"],[0.2222222222222222,\"#7201a8\"],[0.3333333333333333,\"#9c179e\"],[0.4444444444444444,\"#bd3786\"],[0.5555555555555556,\"#d8576b\"],[0.6666666666666666,\"#ed7953\"],[0.7777777777777778,\"#fb9f3a\"],[0.8888888888888888,\"#fdca26\"],[1.0,\"#f0f921\"]]}],\"surface\":[{\"type\":\"surface\",\"colorbar\":{\"outlinewidth\":0,\"ticks\":\"\"},\"colorscale\":[[0.0,\"#0d0887\"],[0.1111111111111111,\"#46039f\"],[0.2222222222222222,\"#7201a8\"],[0.3333333333333333,\"#9c179e\"],[0.4444444444444444,\"#bd3786\"],[0.5555555555555556,\"#d8576b\"],[0.6666666666666666,\"#ed7953\"],[0.7777777777777778,\"#fb9f3a\"],[0.8888888888888888,\"#fdca26\"],[1.0,\"#f0f921\"]]}],\"mesh3d\":[{\"type\":\"mesh3d\",\"colorbar\":{\"outlinewidth\":0,\"ticks\":\"\"}}],\"scatter\":[{\"fillpattern\":{\"fillmode\":\"overlay\",\"size\":10,\"solidity\":0.2},\"type\":\"scatter\"}],\"parcoords\":[{\"type\":\"parcoords\",\"line\":{\"colorbar\":{\"outlinewidth\":0,\"ticks\":\"\"}}}],\"scatterpolargl\":[{\"type\":\"scatterpolargl\",\"marker\":{\"colorbar\":{\"outlinewidth\":0,\"ticks\":\"\"}}}],\"bar\":[{\"error_x\":{\"color\":\"#2a3f5f\"},\"error_y\":{\"color\":\"#2a3f5f\"},\"marker\":{\"line\":{\"color\":\"#E5ECF6\",\"width\":0.5},\"pattern\":{\"fillmode\":\"overlay\",\"size\":10,\"solidity\":0.2}},\"type\":\"bar\"}],\"scattergeo\":[{\"type\":\"scattergeo\",\"marker\":{\"colorbar\":{\"outlinewidth\":0,\"ticks\":\"\"}}}],\"scatterpolar\":[{\"type\":\"scatterpolar\",\"marker\":{\"colorbar\":{\"outlinewidth\":0,\"ticks\":\"\"}}}],\"histogram\":[{\"marker\":{\"pattern\":{\"fillmode\":\"overlay\",\"size\":10,\"solidity\":0.2}},\"type\":\"histogram\"}],\"scattergl\":[{\"type\":\"scattergl\",\"marker\":{\"colorbar\":{\"outlinewidth\":0,\"ticks\":\"\"}}}],\"scatter3d\":[{\"type\":\"scatter3d\",\"line\":{\"colorbar\":{\"outlinewidth\":0,\"ticks\":\"\"}},\"marker\":{\"colorbar\":{\"outlinewidth\":0,\"ticks\":\"\"}}}],\"scattermapbox\":[{\"type\":\"scattermapbox\",\"marker\":{\"colorbar\":{\"outlinewidth\":0,\"ticks\":\"\"}}}],\"scatterternary\":[{\"type\":\"scatterternary\",\"marker\":{\"colorbar\":{\"outlinewidth\":0,\"ticks\":\"\"}}}],\"scattercarpet\":[{\"type\":\"scattercarpet\",\"marker\":{\"colorbar\":{\"outlinewidth\":0,\"ticks\":\"\"}}}],\"carpet\":[{\"aaxis\":{\"endlinecolor\":\"#2a3f5f\",\"gridcolor\":\"white\",\"linecolor\":\"white\",\"minorgridcolor\":\"white\",\"startlinecolor\":\"#2a3f5f\"},\"baxis\":{\"endlinecolor\":\"#2a3f5f\",\"gridcolor\":\"white\",\"linecolor\":\"white\",\"minorgridcolor\":\"white\",\"startlinecolor\":\"#2a3f5f\"},\"type\":\"carpet\"}],\"table\":[{\"cells\":{\"fill\":{\"color\":\"#EBF0F8\"},\"line\":{\"color\":\"white\"}},\"header\":{\"fill\":{\"color\":\"#C8D4E3\"},\"line\":{\"color\":\"white\"}},\"type\":\"table\"}],\"barpolar\":[{\"marker\":{\"line\":{\"color\":\"#E5ECF6\",\"width\":0.5},\"pattern\":{\"fillmode\":\"overlay\",\"size\":10,\"solidity\":0.2}},\"type\":\"barpolar\"}],\"pie\":[{\"automargin\":true,\"type\":\"pie\"}]},\"layout\":{\"autotypenumbers\":\"strict\",\"colorway\":[\"#636efa\",\"#EF553B\",\"#00cc96\",\"#ab63fa\",\"#FFA15A\",\"#19d3f3\",\"#FF6692\",\"#B6E880\",\"#FF97FF\",\"#FECB52\"],\"font\":{\"color\":\"#2a3f5f\"},\"hovermode\":\"closest\",\"hoverlabel\":{\"align\":\"left\"},\"paper_bgcolor\":\"white\",\"plot_bgcolor\":\"#E5ECF6\",\"polar\":{\"bgcolor\":\"#E5ECF6\",\"angularaxis\":{\"gridcolor\":\"white\",\"linecolor\":\"white\",\"ticks\":\"\"},\"radialaxis\":{\"gridcolor\":\"white\",\"linecolor\":\"white\",\"ticks\":\"\"}},\"ternary\":{\"bgcolor\":\"#E5ECF6\",\"aaxis\":{\"gridcolor\":\"white\",\"linecolor\":\"white\",\"ticks\":\"\"},\"baxis\":{\"gridcolor\":\"white\",\"linecolor\":\"white\",\"ticks\":\"\"},\"caxis\":{\"gridcolor\":\"white\",\"linecolor\":\"white\",\"ticks\":\"\"}},\"coloraxis\":{\"colorbar\":{\"outlinewidth\":0,\"ticks\":\"\"}},\"colorscale\":{\"sequential\":[[0.0,\"#0d0887\"],[0.1111111111111111,\"#46039f\"],[0.2222222222222222,\"#7201a8\"],[0.3333333333333333,\"#9c179e\"],[0.4444444444444444,\"#bd3786\"],[0.5555555555555556,\"#d8576b\"],[0.6666666666666666,\"#ed7953\"],[0.7777777777777778,\"#fb9f3a\"],[0.8888888888888888,\"#fdca26\"],[1.0,\"#f0f921\"]],\"sequentialminus\":[[0.0,\"#0d0887\"],[0.1111111111111111,\"#46039f\"],[0.2222222222222222,\"#7201a8\"],[0.3333333333333333,\"#9c179e\"],[0.4444444444444444,\"#bd3786\"],[0.5555555555555556,\"#d8576b\"],[0.6666666666666666,\"#ed7953\"],[0.7777777777777778,\"#fb9f3a\"],[0.8888888888888888,\"#fdca26\"],[1.0,\"#f0f921\"]],\"diverging\":[[0,\"#8e0152\"],[0.1,\"#c51b7d\"],[0.2,\"#de77ae\"],[0.3,\"#f1b6da\"],[0.4,\"#fde0ef\"],[0.5,\"#f7f7f7\"],[0.6,\"#e6f5d0\"],[0.7,\"#b8e186\"],[0.8,\"#7fbc41\"],[0.9,\"#4d9221\"],[1,\"#276419\"]]},\"xaxis\":{\"gridcolor\":\"white\",\"linecolor\":\"white\",\"ticks\":\"\",\"title\":{\"standoff\":15},\"zerolinecolor\":\"white\",\"automargin\":true,\"zerolinewidth\":2},\"yaxis\":{\"gridcolor\":\"white\",\"linecolor\":\"white\",\"ticks\":\"\",\"title\":{\"standoff\":15},\"zerolinecolor\":\"white\",\"automargin\":true,\"zerolinewidth\":2},\"scene\":{\"xaxis\":{\"backgroundcolor\":\"#E5ECF6\",\"gridcolor\":\"white\",\"linecolor\":\"white\",\"showbackground\":true,\"ticks\":\"\",\"zerolinecolor\":\"white\",\"gridwidth\":2},\"yaxis\":{\"backgroundcolor\":\"#E5ECF6\",\"gridcolor\":\"white\",\"linecolor\":\"white\",\"showbackground\":true,\"ticks\":\"\",\"zerolinecolor\":\"white\",\"gridwidth\":2},\"zaxis\":{\"backgroundcolor\":\"#E5ECF6\",\"gridcolor\":\"white\",\"linecolor\":\"white\",\"showbackground\":true,\"ticks\":\"\",\"zerolinecolor\":\"white\",\"gridwidth\":2}},\"shapedefaults\":{\"line\":{\"color\":\"#2a3f5f\"}},\"annotationdefaults\":{\"arrowcolor\":\"#2a3f5f\",\"arrowhead\":0,\"arrowwidth\":1},\"geo\":{\"bgcolor\":\"white\",\"landcolor\":\"#E5ECF6\",\"subunitcolor\":\"white\",\"showland\":true,\"showlakes\":true,\"lakecolor\":\"white\"},\"title\":{\"x\":0.05},\"mapbox\":{\"style\":\"light\"}}},\"xaxis\":{\"type\":\"category\",\"tickmode\":\"array\",\"tickvals\":[2023,2024],\"ticktext\":[2023,2024],\"tickformat\":\"%Y\",\"title\":{\"text\":\"Year\"}},\"title\":{\"text\":\"Stock Price with Anomalies Detected in Daily Returns\"},\"yaxis\":{\"title\":{\"text\":\"Close Price\"}}},                        {\"responsive\": true}                    ).then(function(){\n",
       "                            \n",
       "var gd = document.getElementById('bb0c11fe-e185-4453-8f06-b7fa0a1414c5');\n",
       "var x = new MutationObserver(function (mutations, observer) {{\n",
       "        var display = window.getComputedStyle(gd).display;\n",
       "        if (!display || display === 'none') {{\n",
       "            console.log([gd, 'removed!']);\n",
       "            Plotly.purge(gd);\n",
       "            observer.disconnect();\n",
       "        }}\n",
       "}});\n",
       "\n",
       "// Listen for the removal of the full notebook cells\n",
       "var notebookContainer = gd.closest('#notebook-container');\n",
       "if (notebookContainer) {{\n",
       "    x.observe(notebookContainer, {childList: true});\n",
       "}}\n",
       "\n",
       "// Listen for the clearing of the current output cell\n",
       "var outputEl = gd.closest('.output');\n",
       "if (outputEl) {{\n",
       "    x.observe(outputEl, {childList: true});\n",
       "}}\n",
       "\n",
       "                        })                };                });            </script>        </div>"
      ]
     },
     "metadata": {},
     "output_type": "display_data"
    },
    {
     "name": "stdout",
     "output_type": "stream",
     "text": [
      "Rows corresponding to anomalies:\n",
      "     Date      series       OPEN     HIGH     LOW     PREV. CLOSE     ltp     close     vwap     52W H     52W L   VOLUME        VALUE               No of trades     Date                   Daily_Return  Anomalies_Return\n",
      "---  --------  ---------  -------  -------  ------  --------------  ------  --------  -------  --------  --------  ------------  ------------------  ---------------  -------------------  --------------  ------------------\n",
      "  0  18-01-23  EQ           87.5     91.2    87.35           87.15   90.6      90.7     89.89    112.35     63.6   3,90,56,707   3,51,09,38,489.55   91,836           2023-01-18 00:00:00       0.0365714  True\n",
      "  1  19-01-23  EQ           90.45    93.9    90              90.7    92        92.1     92.45    112.35     63.6   6,34,81,359   5,86,89,64,140.80   1,54,561         2023-01-19 00:00:00       0.0182421  True\n",
      "  4  24-01-23  EQ           92.95    93.15   90.7            93.1    90.85     91       91.57    112.35     63.6   1,51,54,378   1,38,76,44,256.75   47,173           2023-01-24 00:00:00      -0.020979   True\n",
      "  6  27-01-23  EQ           90       91.2    86.3            89.9    88.75     88.15    88.46    112.35     63.6   2,18,74,770   1,93,51,42,059.85   49,486           2023-01-27 00:00:00      -0.0205556  True\n",
      "  8  31-01-23  EQ           87.4     91.15   87              86.85   90.8      90.6     90.13    112.35     63.6   2,63,31,826   2,37,33,32,015.10   52,985           2023-01-31 00:00:00       0.0366133  True\n",
      "  9  01-02-23  EQ           91.3     92.4    86.8            90.6    88.9      89       90.35    112.35     63.6   2,59,11,790   2,34,10,49,143.05   59,242           2023-01-02 00:00:00      -0.0251917  True\n",
      " 11  03-02-23  EQ           89.45    89.7    85.4            89      86.1      85.95    86.48    112.35     63.6   2,14,87,839   1,85,83,39,267.00   51,432           2023-03-02 00:00:00      -0.039128   True\n",
      " 12  06-02-23  EQ           86.4     86.7    84.1            85.95   84.35     84.45    85.26    112.35     63.6   1,50,25,899   1,28,11,54,494.90   39,021           2023-06-02 00:00:00      -0.0225694  True\n",
      " 13  07-02-23  EQ           84.45    84.45   81.45           84.45   82.4      82.45    82.7     112.35     63.6   1,91,23,174   1,58,14,36,694.35   56,399           2023-07-02 00:00:00      -0.0236827  True\n",
      " 14  08-02-23  EQ           82.45    84.8    82.3            82.45   84.6      84.55    83.74    112.35     63.6   1,72,80,945   1,44,71,45,254.35   43,037           2023-08-02 00:00:00       0.02547    True\n",
      " 24  22-02-23  EQ           87       87.1    84              87.15   84.2      84.55    85.08    112.35     63.6   1,95,37,168   1,66,22,49,091.00   37,545           2023-02-22 00:00:00      -0.0281609  True\n",
      " 26  24-02-23  EQ           85.35    85.7    82.75           84.9    83.05     82.95    83.65    112.35     63.6   1,93,05,545   1,61,49,13,368.15   36,927           2023-02-24 00:00:00      -0.0281195  True\n",
      " 29  01-03-23  EQ           83       85.5    83              82.75   85.15     85.25    84.7     112.35     63.6   1,36,29,694   1,15,44,42,613.65   30,874           2023-01-03 00:00:00       0.0271084  True\n",
      " 40  17-03-23  EQ           86       89.05   85.8            85.3    88.75     88.65    87.44    112.35     63.6   2,65,77,314   2,32,40,13,520.10   39,297           2023-03-17 00:00:00       0.030814   True\n",
      " 41  20-03-23  EQ           88.65    88.65   85.45           88.65   86.8      86.6     86.18    112.35     63.6   1,49,09,136   1,28,48,57,732.30   35,264           2023-03-20 00:00:00      -0.0231246  True\n",
      " 43  22-03-23  EQ           87.15    87.25   84.4            87.05   85        85.05    85.6     112.35     63.6   1,98,51,740   1,69,93,63,436.05   44,869           2023-03-22 00:00:00      -0.0240964  True\n",
      " 45  24-03-23  EQ           85.05    85.05   82              85.85   82        82.35    83.2     112.35     63.6   2,05,99,895   1,71,39,80,309.40   51,074           2023-03-24 00:00:00      -0.031746   True\n",
      " 48  29-03-23  EQ           80.8     82.95   80.6            80.8    82.7      82.55    81.75    112.35     63.6   1,36,16,947   1,11,31,41,192.95   29,927           2023-03-29 00:00:00       0.0216584  True\n",
      " 67  02-05-23  EQ           83       85.2    83              82.8    84.6      84.6     84.42     98.4      63.6   2,02,10,134   1,70,61,48,747.50   40,468           2023-02-05 00:00:00       0.0192771  True\n",
      " 70  05-05-23  EQ           85.7     85.75   82.5            85.7    82.9      82.7     83.45     98.4      63.6   1,67,49,470   1,39,76,68,188.05   44,068           2023-05-05 00:00:00      -0.0350058  True\n",
      " 86  29-05-23  EQ           82.4     84.85   82.05           82.1    84.35     84.3     83.96     93.9      63.6   2,06,34,118   1,73,24,61,646.50   41,862           2023-05-29 00:00:00       0.0230583  True\n",
      "110  03-07-23  EQ           85.9     88.25   85.6            85.5    87.45     87.5     87.28     93.9      67.5   2,14,58,900   1,87,29,18,772.30   45,124           2023-03-07 00:00:00       0.0186263  True\n",
      "115  10-07-23  EQ           87       90.6    86.9            86.8    90.15     90.05    89.41     93.9      68.55  3,59,51,620   3,21,42,70,850.35   82,030           2023-10-07 00:00:00       0.0350575  True\n",
      "126  25-07-23  EQ           90       92.75   89.75           89.9    92.15     92.25    91.69     93.9      73.2   2,57,10,455   2,35,73,25,971.25   51,045           2023-07-25 00:00:00       0.025      True\n",
      "132  02-08-23  EQ           95.35    95.35   92.2            95.6    92.8      92.95    93.91     96.15     73.2   1,82,95,129   1,71,80,60,438.30   41,721           2023-02-08 00:00:00      -0.0251704  True\n",
      "140  14-08-23  EQ           91       91.05   86.65           91.1    87.15     87.1     88.07     96.15     73.2   2,31,89,557   2,04,23,52,294.55   65,457           2023-08-14 00:00:00      -0.0428571  True\n",
      "141  16-08-23  EQ           87.1     87.45   84.75           87.1    85.05     84.9     85.52     96.15     73.2   2,83,22,838   2,42,20,53,720.65   86,087           2023-08-16 00:00:00      -0.0252583  True\n",
      "144  21-08-23  EQ           84.4     86.25   84              84.35   85.95     86.05    85.19     96.15     73.2   1,10,90,878   94,47,82,305.55     31,722           2023-08-21 00:00:00       0.0195498  True\n",
      "151  30-08-23  EQ           89       91.6    88.8            88.45   91.45     91.4     90.69     96.15     73.2   2,45,00,533   2,22,18,85,580.00   62,165           2023-08-30 00:00:00       0.0269663  True\n",
      "153  01-09-23  EQ           91.25    97.5    90.85           90.7    97.05     96.95    94.86     97.5      73.2   5,23,88,079   4,96,94,85,148.35   1,05,163         2023-01-09 00:00:00       0.0624658  True\n",
      "154  04-09-23  EQ           97.75   103.65   97.7            96.95  102.6     102.75   101.85    103.65     73.2   6,50,68,908   6,62,72,44,505.20   1,60,158         2023-04-09 00:00:00       0.0511509  True\n",
      "156  06-09-23  EQ          101.75   102.35   98.4           101.75   99.25     99.3     99.63    103.65     73.2   2,55,76,766   2,54,82,58,395.70   70,772           2023-06-09 00:00:00      -0.0240786  True\n",
      "160  12-09-23  EQ          101      102.05   93.1            99.95   93.85     93.75    96.42    103.65     73.2   2,83,81,920   2,73,66,63,248.00   75,054           2023-12-09 00:00:00      -0.0717822  True\n",
      "162  14-09-23  EQ           96.7     99.45   96.3            96      98.75     98.65    98.39    103.65     73.2   2,43,93,971   2,40,02,43,541.00   59,010           2023-09-14 00:00:00       0.0201655  True\n",
      "163  15-09-23  EQ           99.2    100.3    95.55           98.65   96.15     96.35    97.65    103.65     73.2   3,10,58,038   3,03,27,13,025.05   61,007           2023-09-15 00:00:00      -0.0287298  True\n",
      "173  03-10-23  EQ           94       94      91.4            93.85   91.75     91.7     91.91    103.65     73.75  1,55,48,573   1,42,91,07,930.85   46,297           2023-03-10 00:00:00      -0.0244681  True\n",
      "178  10-10-23  EQ           86.9     89.1    86.5            86.35   88.8      88.8     87.84    103.65     73.75  1,27,62,654   1,12,10,29,227.85   32,679           2023-10-10 00:00:00       0.0218642  True\n",
      "184  18-10-23  EQ           89.6     90.4    87.45           89.5    87.9      87.75    88.66    103.65     73.75  1,58,54,654   1,40,57,19,633.15   38,265           2023-10-18 00:00:00      -0.0206473  True\n",
      "187  23-10-23  EQ           86.7     86.85   83              86.9    83.2      83.35    84.51    103.65     73.75  1,63,94,075   1,38,55,22,236.20   69,411           2023-10-23 00:00:00      -0.038639   True\n",
      "208  22-11-23  EQ           91       91      88.75           90.65   89.2      89.25    89.66    103.65     73.75  1,17,01,214   1,04,91,76,438.20   32,334           2023-11-22 00:00:00      -0.0192308  True\n",
      "216  05-12-23  EQ           94.1     96.85   93.4            94      95.85     95.75    95.19    103.65     73.75  3,48,37,108   3,31,60,33,778.10   69,361           2023-05-12 00:00:00       0.0175345  True\n",
      "217  06-12-23  EQ           96.6    101.1    95.5            95.75   99.45     99.35    98.77    103.65     73.75  7,48,17,529   7,38,99,70,238.20   1,29,474         2023-06-12 00:00:00       0.0284679  True\n",
      "220  11-12-23  EQ           98.1    100.95   97.75           98.1   100.8     100.8     99.83    103.65     73.75  2,97,21,883   2,96,70,58,534.65   66,224           2023-11-12 00:00:00       0.0275229  True\n",
      "222  13-12-23  EQ          100.7    103.65  100.55          100     103.45    103.25   102.36    103.65     73.75  4,27,97,594   4,38,06,72,150.30   92,759           2023-12-13 00:00:00       0.0253227  True\n",
      "223  14-12-23  EQ          105.1    112.25  105.1           103.25  110.8     110.95   109.74    112.25     73.75  17,78,34,487  19,51,56,68,502.80  3,09,872         2023-12-14 00:00:00       0.0556613  True\n",
      "225  18-12-23  EQ          112      117.15  110.75          111.45  115.05    115.45   115.25    117.15     73.75  7,86,49,010   9,06,45,12,156.20   1,61,038         2023-12-18 00:00:00       0.0308036  True\n",
      "226  19-12-23  EQ          115.45   116.55  110.2           115.45  111.25    111.05   112.76    117.15     73.75  3,54,13,677   3,99,31,88,320.80   1,05,312         2023-12-19 00:00:00      -0.0381117  True\n",
      "227  20-12-23  EQ          112.35   112.95  102.65          111.05  103.6     103.7    108.04    117.15     73.75  4,16,17,472   4,49,61,93,054.65   1,37,139         2023-12-20 00:00:00      -0.0769915  True\n",
      "228  21-12-23  EQ          103.85   109.9   102.15          103.7   109.2     109      106.08    117.15     73.75  5,21,12,170   5,52,78,67,820.90   1,14,605         2023-12-21 00:00:00       0.0495908  True\n",
      "229  22-12-23  EQ          110.5    113.5   109.5           109     112.6     112.75   112.04    117.15     73.75  5,62,23,938   6,29,96,03,562.60   1,18,448         2023-12-22 00:00:00       0.020362   True\n",
      "232  28-12-23  EQ          116.4    123.85  116.1           115.45  123.15    122.85   120.57    123.85     73.75  11,28,86,813  13,61,02,45,662.45  2,66,035         2023-12-28 00:00:00       0.0554124  True\n",
      "236  03-01-24  EQ          122.4    122.7   118.7           123     119.25    119.1    119.71    126.9      77.6   3,04,59,539   3,64,64,46,979.25   1,09,058         2024-03-01 00:00:00      -0.0269608  True\n",
      "238  05-01-24  EQ          119.5    120.75  115.7           118.65  116.95    116.95   118.12    126.9      77.6   2,27,84,093   2,69,12,50,226.95   81,379           2024-05-01 00:00:00      -0.0213389  True\n",
      "239  08-01-24  EQ          117.1    117.6   114             116.95  114.6     114.3    115.21    126.9      77.6   2,18,30,246   2,51,49,72,032.40   74,722           2024-08-01 00:00:00      -0.0239112  True\n",
      "242  11-01-24  EQ          115.95   116.55  113             115.05  113.55    113.5    114.64    126.9      77.6   1,65,65,652   1,89,90,65,814.00   56,069           2024-11-01 00:00:00      -0.0211298  True\n",
      "245  16-01-24  EQ          115.05   119.95  114             114.65  119.95    119.55   117.78    126.9      77.6   6,35,60,474   7,48,61,00,088.40   1,56,239         2024-01-16 00:00:00       0.0391134  True\n",
      "246  17-01-24  EQ          117.85   117.85  112.5           119.55  113.35    113.1    114.83    126.9      77.6   5,98,98,451   6,87,80,02,177.80   1,72,153         2024-01-17 00:00:00      -0.0403055  True\n"
     ]
    }
   ],
   "source": [
    "import pandas as pd\n",
    "import numpy as np\n",
    "import plotly.graph_objects as go\n",
    "from tabulate import tabulate\n",
    "\n",
    "# Load data from CSV file\n",
    "file_path = 'c:/Users/user/Downloads/Quote-Equity-SAIL-EQ-18-01-2023-to-18-01-2024.csv'\n",
    "df = pd.read_csv(file_path)\n",
    "\n",
    "# Convert 'Date' column to datetime type\n",
    "df['Date'] = pd.to_datetime(df['Date '])\n",
    "\n",
    "# Assume your dataset has a 'Close' column\n",
    "close_prices = df['close '].values\n",
    "\n",
    "# Calculate Daily Returns\n",
    "df['Daily_Return'] = (df['close '] - df['OPEN ']) / df['OPEN ']\n",
    "\n",
    "# Use the z-score method for anomaly detection on daily returns\n",
    "mean_return = np.mean(df['Daily_Return'].dropna())\n",
    "std_dev_return = np.std(df['Daily_Return'].dropna())\n",
    "z_scores_return = (df['Daily_Return'] - mean_return) / std_dev_return\n",
    "\n",
    "# Set a threshold for anomaly detection\n",
    "threshold_return = 1  # Adjust as needed\n",
    "\n",
    "# Identify anomalies based on the threshold\n",
    "df['Anomalies_Return'] = np.abs(z_scores_return) > threshold_return\n",
    "\n",
    "# Create a line graph using Plotly\n",
    "fig = go.Figure()\n",
    "\n",
    "# Line graph for close prices\n",
    "fig.add_trace(go.Scatter(x=df['Date'], y=close_prices, mode='lines', name='Close Price'))\n",
    "\n",
    "# Red dots for anomalies\n",
    "anomaly_dates = df[df['Anomalies_Return']]['Date']\n",
    "anomaly_prices = close_prices[df['Anomalies_Return']]\n",
    "fig.add_trace(go.Scatter(x=anomaly_dates, y=anomaly_prices, mode='markers', marker=dict(color='red'), name='Anomalies'))\n",
    "\n",
    "# Update layout to display only the year on the x-axis\n",
    "fig.update_xaxes(type='category', tickmode='array', tickvals=df['Date'].dt.year.unique(), ticktext=df['Date'].dt.year.unique(), tickformat='%Y')\n",
    "\n",
    "# Display the plot\n",
    "fig.update_layout(title='Stock Price with Anomalies Detected in Daily Returns', xaxis_title='Year', yaxis_title='Close Price')\n",
    "fig.show()\n",
    "\n",
    "# Print rows corresponding to anomalies using tabulate\n",
    "anomaly_rows = df[df['Anomalies_Return']]\n",
    "print(\"Rows corresponding to anomalies:\")\n",
    "print(tabulate(anomaly_rows, headers='keys', tablefmt='simple'))"
   ]
  },
  {
   "cell_type": "markdown",
   "id": "1ca14448",
   "metadata": {},
   "source": [
    " Aggregate Statistics"
   ]
  },
  {
   "cell_type": "code",
   "execution_count": 36,
   "id": "c6d05bd1",
   "metadata": {},
   "outputs": [
    {
     "name": "stdout",
     "output_type": "stream",
     "text": [
      "Aggregate Statistics for Anomalies (Z-Score):\n",
      "count     30.000000\n",
      "mean     112.463333\n",
      "std        8.745234\n",
      "min       80.800000\n",
      "25%      110.975000\n",
      "50%      113.875000\n",
      "75%      116.575000\n",
      "max      124.700000\n",
      "Name: close , dtype: float64\n",
      "\n",
      "Aggregate Statistics for Anomalies (MAD):\n",
      "count     36.000000\n",
      "mean     110.808333\n",
      "std        8.119118\n",
      "min       98.900000\n",
      "25%      102.500000\n",
      "50%      113.075000\n",
      "75%      115.450000\n",
      "max      124.700000\n",
      "Name: close , dtype: float64\n",
      "\n",
      "Aggregate Statistics for Non-Anomalies:\n",
      "count    211.000000\n",
      "mean      87.250948\n",
      "std        4.022153\n",
      "min       81.200000\n",
      "25%       84.075000\n",
      "50%       86.550000\n",
      "75%       89.950000\n",
      "max       98.650000\n",
      "Name: close , dtype: float64\n"
     ]
    }
   ],
   "source": [
    "import pandas as pd\n",
    "import numpy as np\n",
    "\n",
    "\n",
    "# Assume your dataset is stored in a column named 'value'\n",
    "data = df['close '].values\n",
    "\n",
    "# Z-Score Method\n",
    "mean = np.mean(data)\n",
    "std_dev = np.std(data)\n",
    "z_scores = (data - mean) / std_dev\n",
    "threshold_z = 1  # Adjust as needed\n",
    "anomalies_z = np.abs(z_scores) > threshold_z\n",
    "\n",
    "# MAD Method\n",
    "median = np.median(data)\n",
    "mad = np.median(np.abs(data - median))\n",
    "mad_scores = 0.6745 * (data - median) / mad\n",
    "threshold_mad = 2  # Adjust as needed\n",
    "anomalies_mad = np.abs(mad_scores) > threshold_mad\n",
    "\n",
    "# Display or save the results\n",
    "df['Anomalies_Z'] = anomalies_z\n",
    "df['Anomalies_MAD'] = anomalies_mad\n",
    "\n",
    "# Assuming you have columns 'Date', 'Value', 'Anomalies_Z', 'Anomalies_MAD'\n",
    "anomalies_z = df[df['Anomalies_Z']]\n",
    "anomalies_mad = df[df['Anomalies_MAD']]\n",
    "non_anomalies = df[~(df['Anomalies_Z'] | df['Anomalies_MAD'])]\n",
    "\n",
    "# Aggregate statistics\n",
    "aggregate_stats_anomalies_z = anomalies_z['close '].describe()\n",
    "aggregate_stats_anomalies_mad = anomalies_mad['close '].describe()\n",
    "aggregate_stats_non_anomalies = non_anomalies['close '].describe()\n",
    "\n",
    "# Print aggregate statistics\n",
    "print(\"Aggregate Statistics for Anomalies (Z-Score):\")\n",
    "print(aggregate_stats_anomalies_z)\n",
    "\n",
    "print(\"\\nAggregate Statistics for Anomalies (MAD):\")\n",
    "print(aggregate_stats_anomalies_mad)\n",
    "\n",
    "print(\"\\nAggregate Statistics for Non-Anomalies:\")\n",
    "print(aggregate_stats_non_anomalies)\n"
   ]
  },
  {
   "cell_type": "code",
   "execution_count": 37,
   "id": "4d7efd3d",
   "metadata": {},
   "outputs": [
    {
     "name": "stdout",
     "output_type": "stream",
     "text": [
      "Weekly Statistics for Anomalies (Z-Score):\n",
      "         count      mean       std     min       25%      50%      75%     max\n",
      "Week                                                                          \n",
      "00-2024    1.0  124.7000       NaN  124.70  124.7000  124.700  124.700  124.70\n",
      "02-2024    4.0  115.0875  3.066316  113.05  113.0875  113.875  115.875  119.55\n",
      "04-2024    1.0  123.0000       NaN  123.00  123.0000  123.000  123.000  123.00\n",
      "08-2024    1.0  119.1000       NaN  119.10  119.1000  119.100  119.100  119.10\n",
      "13-2023    1.0   80.8000       NaN   80.80   80.8000   80.800   80.800   80.80\n",
      "13-2024    1.0  118.6500       NaN  118.65  118.6500  118.650  118.650  118.65\n",
      "15-2023    1.0  102.7500       NaN  102.75  102.7500  102.750  102.750  102.75\n",
      "17-2024    1.0  116.9500       NaN  116.95  116.9500  116.950  116.950  116.95\n",
      "19-2023    1.0  101.7500       NaN  101.75  101.7500  101.750  101.750  101.75\n",
      "30-2024    1.0  114.3000       NaN  114.30  114.3000  114.300  114.300  114.30\n",
      "35-2024    1.0  114.2000       NaN  114.20  114.2000  114.200  114.200  114.20\n",
      "39-2024    1.0  115.0500       NaN  115.05  115.0500  115.050  115.050  115.05\n",
      "43-2024    1.0  113.5000       NaN  113.50  113.5000  113.500  113.500  113.50\n",
      "46-2023    1.0  100.8000       NaN  100.80  100.8000  100.800  100.800  100.80\n",
      "48-2024    1.0  114.9000       NaN  114.90  114.9000  114.900  114.900  114.90\n",
      "50-2023    3.0  108.5500  4.596738  103.25  107.1000  110.950  111.200  111.45\n",
      "51-2023    5.0  110.3900  4.424280  103.70  109.0000  111.050  112.750  115.45\n",
      "52-2023    4.0  118.8750  5.121442  113.55  114.9750  119.150  123.050  123.65\n",
      "\n",
      "Weekly Statistics for Anomalies (MAD):\n",
      "         count      mean       std     min       25%      50%      75%     max\n",
      "Week                                                                          \n",
      "00-2024    1.0  124.7000       NaN  124.70  124.7000  124.700  124.700  124.70\n",
      "02-2024    4.0  115.0875  3.066316  113.05  113.0875  113.875  115.875  119.55\n",
      "04-2024    1.0  123.0000       NaN  123.00  123.0000  123.000  123.000  123.00\n",
      "08-2024    1.0  119.1000       NaN  119.10  119.1000  119.100  119.100  119.10\n",
      "13-2024    1.0  118.6500       NaN  118.65  118.6500  118.650  118.650  118.65\n",
      "15-2023    1.0  102.7500       NaN  102.75  102.7500  102.750  102.750  102.75\n",
      "17-2024    1.0  116.9500       NaN  116.95  116.9500  116.950  116.950  116.95\n",
      "19-2023    1.0  101.7500       NaN  101.75  101.7500  101.750  101.750  101.75\n",
      "23-2023    1.0   99.3000       NaN   99.30   99.3000   99.300   99.300   99.30\n",
      "24-2023    1.0   99.3500       NaN   99.35   99.3500   99.350   99.350   99.35\n",
      "28-2023    2.0   99.2500  0.424264   98.95   99.1000   99.250   99.400   99.55\n",
      "30-2024    1.0  114.3000       NaN  114.30  114.3000  114.300  114.300  114.30\n",
      "32-2023    1.0   98.9000       NaN   98.90   98.9000   98.900   98.900   98.90\n",
      "35-2024    1.0  114.2000       NaN  114.20  114.2000  114.200  114.200  114.20\n",
      "39-2024    1.0  115.0500       NaN  115.05  115.0500  115.050  115.050  115.05\n",
      "43-2024    1.0  113.5000       NaN  113.50  113.5000  113.500  113.500  113.50\n",
      "45-2023    1.0   99.9500       NaN   99.95   99.9500   99.950   99.950   99.95\n",
      "46-2023    1.0  100.8000       NaN  100.80  100.8000  100.800  100.800  100.80\n",
      "48-2024    1.0  114.9000       NaN  114.90  114.9000  114.900  114.900  114.90\n",
      "50-2023    4.0  106.4125  5.688786  100.00  102.4375  107.100  111.075  111.45\n",
      "51-2023    5.0  110.3900  4.424280  103.70  109.0000  111.050  112.750  115.45\n",
      "52-2023    4.0  118.8750  5.121442  113.55  114.9750  119.150  123.050  123.65\n",
      "\n",
      "Weekly Statistics for Non-Anomalies:\n",
      "         count       mean       std    min      25%     50%      75%    max\n",
      "Week                                                                       \n",
      "01-2023    3.0  85.483333  3.406000  82.20  83.7250  85.250  87.1250  89.00\n",
      "02-2023    4.0  92.150000  6.364092  82.90  90.5875  94.375  95.9375  96.95\n",
      "03-2023    3.0  91.433333  0.702377  90.70  91.1000  91.500  91.8000  92.10\n",
      "04-2023    4.0  90.537500  2.072589  88.15  89.4625  90.450  91.5250  93.10\n",
      "05-2023    4.0  88.187500  1.985940  86.30  86.7125  87.925  89.4000  90.60\n",
      "06-2023    4.0  86.550000  4.309486  83.60  84.3500  84.825  87.0250  92.95\n",
      "07-2023    5.0  84.730000  1.191952  83.35  84.1500  84.200  85.8000  86.15\n",
      "08-2023    5.0  85.120000  1.586506  82.95  84.5500  84.900  86.0500  87.15\n",
      "09-2023    5.0  84.660000  2.160266  82.75  83.0000  83.800  85.9500  87.80\n",
      "10-2023    5.0  88.430000  3.699932  84.90  85.1500  87.500  91.7000  92.90\n",
      "11-2023    5.0  87.070000  1.230142  85.30  86.8000  86.950  87.6500  88.65\n",
      "12-2023    5.0  85.380000  1.856610  82.35  85.0500  85.850  86.6000  87.05\n",
      "13-2023    3.0  82.150000  0.826136  81.20  81.8750  82.550  82.6250  82.70\n",
      "14-2023    3.0  88.983333  4.413143  85.70  86.4750  87.250  90.6250  94.00\n",
      "15-2023    3.0  88.266667  6.282980  81.55  85.4000  89.250  91.6250  94.00\n",
      "16-2023    5.0  82.410000  0.583524  81.60  82.3000  82.300  82.6500  83.20\n",
      "17-2023    5.0  81.930000  0.580517  81.20  81.7000  81.950  82.0000  82.80\n",
      "18-2023    3.0  82.966667  0.642910  82.50  82.6000  82.700  83.2000  83.70\n",
      "19-2023    3.0  90.816667  4.282912  88.05  88.3500  88.650  92.2000  95.75\n",
      "20-2023    5.0  83.150000  0.944060  82.15  82.5000  82.800  84.0500  84.25\n",
      "21-2023    5.0  82.300000  0.242384  82.05  82.1000  82.250  82.5000  82.60\n",
      "22-2023    5.0  84.380000  1.894927  82.50  83.2000  84.300  84.4500  87.45\n",
      "23-2023    4.0  85.487500  3.334760  82.10  82.9250  85.500  88.0625  88.85\n",
      "24-2023    5.0  85.130000  1.033562  84.10  84.7500  84.800  85.1500  86.85\n",
      "25-2023    5.0  85.460000  0.681359  84.40  85.1500  85.850  85.9000  86.00\n",
      "26-2023    4.0  85.037500  0.442295  84.45  84.8625  85.100  85.2750  85.50\n",
      "27-2023    4.0  87.012500  5.016867  82.45  84.1750  85.775  88.6125  94.05\n",
      "28-2023    3.0  88.800000  3.110868  85.30  87.5750  89.850  90.5500  91.25\n",
      "29-2023    5.0  90.550000  0.672681  89.90  90.1500  90.300  90.8000  91.60\n",
      "30-2023    5.0  91.910000  1.141490  89.90  92.2000  92.250  92.5000  92.70\n",
      "31-2023    4.0  87.712500  4.802148  84.30  84.4875  85.975  89.2000  94.60\n",
      "32-2023    4.0  90.175000  6.430461  84.05  85.4750  89.275  93.9750  98.10\n",
      "33-2023    4.0  85.312500  1.219546  84.35  84.7625  84.900  85.4500  87.10\n",
      "34-2023    5.0  86.000000  0.360555  85.65  85.7000  86.050  86.0500  86.55\n",
      "35-2023    5.0  88.570000  2.527499  85.35  86.9500  88.450  90.7000  91.40\n",
      "36-2023    4.0  86.950000  4.494626  82.90  83.8750  85.975  89.0500  92.95\n",
      "37-2023    5.0  92.900000  5.712705  86.35  87.1500  96.000  96.3500  98.65\n",
      "38-2023    4.0  94.950000  1.568970  93.20  94.0625  94.850  95.7375  96.90\n",
      "39-2023    5.0  93.030000  0.779102  91.80  92.9000  93.100  93.5000  93.85\n",
      "40-2023    5.0  85.820000  3.144758  82.45  83.9500  84.550  88.1000  90.05\n",
      "41-2023    4.0  89.675000  2.179258  88.10  88.6250  88.850  89.9000  92.90\n",
      "42-2023    5.0  88.370000  1.063955  86.90  87.7500  88.500  89.2000  89.50\n",
      "43-2023    4.0  83.675000  0.442531  83.25  83.3250  83.650  84.0000  84.15\n",
      "44-2023    3.0  83.383333  0.808290  82.45  83.1500  83.850  83.8500  83.85\n",
      "45-2023    4.0  88.450000  3.075169  84.10  87.4750  89.300  90.2750  91.10\n",
      "46-2023    4.0  88.475000  0.573730  88.00  88.1500  88.300  88.6250  89.30\n",
      "47-2023    5.0  89.860000  0.646529  89.20  89.2500  89.850  90.3500  90.65\n",
      "48-2023    3.0  91.483333  0.718215  90.95  91.0750  91.200  91.7500  92.30\n",
      "49-2023    5.0  86.530000  4.929833  82.70  83.0500  83.550  89.6000  93.75\n",
      "50-2023    2.0  89.425000  0.106066  89.35  89.3875  89.425  89.4625  89.50\n"
     ]
    },
    {
     "name": "stderr",
     "output_type": "stream",
     "text": [
      "C:\\Users\\user\\AppData\\Local\\Temp\\ipykernel_8804\\1577660538.py:2: UserWarning:\n",
      "\n",
      "Could not infer format, so each element will be parsed individually, falling back to `dateutil`. To ensure parsing is consistent and as-expected, please specify a format.\n",
      "\n",
      "C:\\Users\\user\\AppData\\Local\\Temp\\ipykernel_8804\\1577660538.py:11: SettingWithCopyWarning:\n",
      "\n",
      "\n",
      "A value is trying to be set on a copy of a slice from a DataFrame.\n",
      "Try using .loc[row_indexer,col_indexer] = value instead\n",
      "\n",
      "See the caveats in the documentation: https://pandas.pydata.org/pandas-docs/stable/user_guide/indexing.html#returning-a-view-versus-a-copy\n",
      "\n",
      "C:\\Users\\user\\AppData\\Local\\Temp\\ipykernel_8804\\1577660538.py:11: SettingWithCopyWarning:\n",
      "\n",
      "\n",
      "A value is trying to be set on a copy of a slice from a DataFrame.\n",
      "Try using .loc[row_indexer,col_indexer] = value instead\n",
      "\n",
      "See the caveats in the documentation: https://pandas.pydata.org/pandas-docs/stable/user_guide/indexing.html#returning-a-view-versus-a-copy\n",
      "\n",
      "C:\\Users\\user\\AppData\\Local\\Temp\\ipykernel_8804\\1577660538.py:11: SettingWithCopyWarning:\n",
      "\n",
      "\n",
      "A value is trying to be set on a copy of a slice from a DataFrame.\n",
      "Try using .loc[row_indexer,col_indexer] = value instead\n",
      "\n",
      "See the caveats in the documentation: https://pandas.pydata.org/pandas-docs/stable/user_guide/indexing.html#returning-a-view-versus-a-copy\n",
      "\n"
     ]
    }
   ],
   "source": [
    "# Convert 'Date' column to datetime type\n",
    "df['Date'] = pd.to_datetime(df['Date '])\n",
    "\n",
    "# Assuming you have columns 'Date', 'Value', 'Anomalies_Z', 'Anomalies_MAD'\n",
    "anomalies_z = df[df['Anomalies_Z']]\n",
    "anomalies_mad = df[df['Anomalies_MAD']]\n",
    "non_anomalies = df[~(df['Anomalies_Z'] | df['Anomalies_MAD'])]\n",
    "\n",
    "# Group data by week and calculate aggregate statistics for each week\n",
    "def aggregate_weekly_stats(data):\n",
    "    data['Week'] = data['Date'].dt.strftime('%U-%Y')  # Group by week and year\n",
    "    weekly_stats = data.groupby('Week')['close '].describe()\n",
    "    return weekly_stats\n",
    "\n",
    "# Aggregate statistics for anomalies (Z-Score) on a weekly basis\n",
    "weekly_stats_anomalies_z = aggregate_weekly_stats(anomalies_z)\n",
    "\n",
    "# Aggregate statistics for anomalies (MAD) on a weekly basis\n",
    "weekly_stats_anomalies_mad = aggregate_weekly_stats(anomalies_mad)\n",
    "\n",
    "# Aggregate statistics for non-anomalies on a weekly basis\n",
    "weekly_stats_non_anomalies = aggregate_weekly_stats(non_anomalies)\n",
    "\n",
    "# Print weekly statistics\n",
    "print(\"Weekly Statistics for Anomalies (Z-Score):\")\n",
    "print(weekly_stats_anomalies_z)\n",
    "\n",
    "print(\"\\nWeekly Statistics for Anomalies (MAD):\")\n",
    "print(weekly_stats_anomalies_mad)\n",
    "\n",
    "print(\"\\nWeekly Statistics for Non-Anomalies:\")\n",
    "print(weekly_stats_non_anomalies)"
   ]
  },
  {
   "cell_type": "code",
   "execution_count": 38,
   "id": "b7da5d57",
   "metadata": {},
   "outputs": [
    {
     "data": {
      "image/png": "[encoded data removed]",
      "text/plain": [
       "<Figure size 1200x600 with 2 Axes>"
      ]
     },
     "metadata": {},
     "output_type": "display_data"
    }
   ],
   "source": [
    "import matplotlib.pyplot as plt\n",
    "import seaborn as sns\n",
    "# Separate anomalies and non-anomalies\n",
    "anomalies = df[df['Anomalies_Z']]\n",
    "non_anomalies = df[~df['Anomalies_Z']]\n",
    "\n",
    "# Plot histograms for anomalies and non-anomalies separately\n",
    "plt.figure(figsize=(12, 6))\n",
    "\n",
    "plt.subplot(2, 1, 1)\n",
    "sns.histplot(anomalies['Daily_Return'], bins=30, kde=True, color='red')\n",
    "plt.title('Distribution of Daily Returns for Anomalies')\n",
    "plt.xlabel('Daily Return')\n",
    "plt.ylabel('Frequency')\n",
    "\n",
    "plt.subplot(2, 1, 2)\n",
    "sns.histplot(non_anomalies['Daily_Return'], bins=30, kde=True, color='blue')\n",
    "plt.title('Distribution of Daily Returns for Non-Anomalies')\n",
    "plt.xlabel('Daily Return')\n",
    "plt.ylabel('Frequency')\n",
    "\n",
    "plt.tight_layout()\n",
    "plt.show()"
   ]
  },
  {
   "cell_type": "code",
   "execution_count": 39,
   "id": "9c7fd4c3",
   "metadata": {},
   "outputs": [
    {
     "name": "stdout",
     "output_type": "stream",
     "text": [
      "Requirement already satisfied: scikit-learn in d:\\anaconda\\lib\\site-packages (1.3.0)\n",
      "Requirement already satisfied: numpy>=1.17.3 in d:\\anaconda\\lib\\site-packages (from scikit-learn) (1.24.3)\n",
      "Requirement already satisfied: scipy>=1.5.0 in d:\\anaconda\\lib\\site-packages (from scikit-learn) (1.11.1)\n",
      "Requirement already satisfied: joblib>=1.1.1 in d:\\anaconda\\lib\\site-packages (from scikit-learn) (1.2.0)\n",
      "Requirement already satisfied: threadpoolctl>=2.0.0 in d:\\anaconda\\lib\\site-packages (from scikit-learn) (2.2.0)\n",
      "Note: you may need to restart the kernel to use updated packages.\n"
     ]
    }
   ],
   "source": [
    "pip install scikit-learn"
   ]
  },
  {
   "cell_type": "code",
   "execution_count": 40,
   "id": "ed03ae68",
   "metadata": {},
   "outputs": [
    {
     "data": {
      "image/png": "[encoded data removed]",
      "text/plain": [
       "<Figure size 1200x600 with 2 Axes>"
      ]
     },
     "metadata": {},
     "output_type": "display_data"
    },
    {
     "name": "stdout",
     "output_type": "stream",
     "text": [
      "Rows corresponding to Isolation Forest anomalies:\n",
      "          Date   OPEN   close   Daily_Return  Anomalies_Isolation_Forest\n",
      "45  2023-03-24   85.05   82.35     -0.031746                           1\n",
      "70  2023-05-05   85.70   82.70     -0.035006                           1\n",
      "115 2023-10-07   87.00   90.05      0.035057                           1\n",
      "140 2023-08-14   91.00   87.10     -0.042857                           1\n",
      "153 2023-01-09   91.25   96.95      0.062466                           1\n",
      "154 2023-04-09   97.75  102.75      0.051151                           1\n",
      "160 2023-12-09  101.00   93.75     -0.071782                           1\n",
      "223 2023-12-14  105.10  110.95      0.055661                           1\n",
      "227 2023-12-20  112.35  103.70     -0.076992                           1\n",
      "228 2023-12-21  103.85  109.00      0.049591                           1\n",
      "232 2023-12-28  116.40  122.85      0.055412                           1\n",
      "245 2024-01-16  115.05  119.55      0.039113                           1\n",
      "246 2024-01-17  117.85  113.10     -0.040305                           1\n"
     ]
    }
   ],
   "source": [
    "import pandas as pd\n",
    "import numpy as np\n",
    "import seaborn as sns\n",
    "import matplotlib.pyplot as plt\n",
    "from sklearn.ensemble import IsolationForest\n",
    "\n",
    "# Temporal Analysis (Weekly Statistics)\n",
    "def aggregate_weekly_stats(data):\n",
    "    data['Week'] = data['Date'].dt.strftime('%U-%Y')  # Group by week and year\n",
    "    weekly_stats = data.groupby('Week')['Daily_Return'].describe()\n",
    "    return weekly_stats\n",
    "\n",
    "weekly_stats_all = aggregate_weekly_stats(df)\n",
    "\n",
    "# Prepare data for Isolation Forest (use only numeric features)\n",
    "data_for_isolation_forest = df[['Daily_Return']].values\n",
    "\n",
    "# Apply Isolation Forest\n",
    "clf = IsolationForest(contamination=0.05)  # Adjust contamination parameter\n",
    "df['Isolation_Forest_Score'] = clf.fit_predict(data_for_isolation_forest)\n",
    "\n",
    "# Mark anomalies based on Isolation Forest predictions\n",
    "df['Anomalies_Isolation_Forest'] = (df['Isolation_Forest_Score'] == -1).astype(int)\n",
    "\n",
    "# Plot histograms for anomalies and non-anomalies separately\n",
    "plt.figure(figsize=(12, 6))\n",
    "\n",
    "plt.subplot(2, 1, 1)\n",
    "sns.histplot(df[df['Anomalies_Isolation_Forest'] == 1]['Daily_Return'], bins=30, kde=True, color='red')\n",
    "plt.title('Distribution of Daily Returns for Isolation Forest Anomalies')\n",
    "plt.xlabel('Daily Return')\n",
    "plt.ylabel('Frequency')\n",
    "\n",
    "plt.subplot(2, 1, 2)\n",
    "sns.histplot(df[df['Anomalies_Isolation_Forest'] == 0]['Daily_Return'], bins=30, kde=True, color='blue')\n",
    "plt.title('Distribution of Daily Returns for Non-Anomalies')\n",
    "plt.xlabel('Daily Return')\n",
    "plt.ylabel('Frequency')\n",
    "\n",
    "plt.tight_layout()\n",
    "plt.show()\n",
    "\n",
    "# Print rows corresponding to Isolation Forest anomalies\n",
    "anomaly_rows_isolation_forest = df[df['Anomalies_Isolation_Forest'] == 1]\n",
    "print(\"Rows corresponding to Isolation Forest anomalies:\")\n",
    "print(anomaly_rows_isolation_forest[['Date', 'OPEN ', 'close ', 'Daily_Return', 'Anomalies_Isolation_Forest']])"
   ]
  },
  {
   "cell_type": "code",
   "execution_count": 41,
   "id": "ff964a73",
   "metadata": {},
   "outputs": [
    {
     "name": "stdout",
     "output_type": "stream",
     "text": [
      "Requirement already satisfied: prettytable in d:\\anaconda\\lib\\site-packages (3.9.0)\n",
      "Requirement already satisfied: wcwidth in d:\\anaconda\\lib\\site-packages (from prettytable) (0.2.5)\n",
      "Note: you may need to restart the kernel to use updated packages.\n"
     ]
    }
   ],
   "source": [
    "pip install prettytable"
   ]
  },
  {
   "cell_type": "code",
   "execution_count": 42,
   "id": "28bb7f3e",
   "metadata": {},
   "outputs": [
    {
     "data": {
      "application/vnd.plotly.v1+json": {
       "config": {
        "plotlyServerURL": "https://plot.ly"
       },
       "data": [
        {
         "mode": "lines",
         "name": "Close Price",
         "type": "scatter",
         "x": [
          "2023-01-18T00:00:00",
          "2023-01-19T00:00:00",
          "2023-01-20T00:00:00",
          "2023-01-23T00:00:00",
          "2023-01-24T00:00:00",
          "2023-01-25T00:00:00",
          "2023-01-27T00:00:00",
          "2023-01-30T00:00:00",
          "2023-01-31T00:00:00",
          "2023-01-02T00:00:00",
          "2023-02-02T00:00:00",
          "2023-03-02T00:00:00",
          "2023-06-02T00:00:00",
          "2023-07-02T00:00:00",
          "2023-08-02T00:00:00",
          "2023-09-02T00:00:00",
          "2023-10-02T00:00:00",
          "2023-02-13T00:00:00",
          "2023-02-14T00:00:00",
          "2023-02-15T00:00:00",
          "2023-02-16T00:00:00",
          "2023-02-17T00:00:00",
          "2023-02-20T00:00:00",
          "2023-02-21T00:00:00",
          "2023-02-22T00:00:00",
          "2023-02-23T00:00:00",
          "2023-02-24T00:00:00",
          "2023-02-27T00:00:00",
          "2023-02-28T00:00:00",
          "2023-01-03T00:00:00",
          "2023-02-03T00:00:00",
          "2023-03-03T00:00:00",
          "2023-06-03T00:00:00",
          "2023-08-03T00:00:00",
          "2023-09-03T00:00:00",
          "2023-10-03T00:00:00",
          "2023-03-13T00:00:00",
          "2023-03-14T00:00:00",
          "2023-03-15T00:00:00",
          "2023-03-16T00:00:00",
          "2023-03-17T00:00:00",
          "2023-03-20T00:00:00",
          "2023-03-21T00:00:00",
          "2023-03-22T00:00:00",
          "2023-03-23T00:00:00",
          "2023-03-24T00:00:00",
          "2023-03-27T00:00:00",
          "2023-03-28T00:00:00",
          "2023-03-29T00:00:00",
          "2023-03-31T00:00:00",
          "2023-03-04T00:00:00",
          "2023-05-04T00:00:00",
          "2023-06-04T00:00:00",
          "2023-10-04T00:00:00",
          "2023-11-04T00:00:00",
          "2023-12-04T00:00:00",
          "2023-04-13T00:00:00",
          "2023-04-17T00:00:00",
          "2023-04-18T00:00:00",
          "2023-04-19T00:00:00",
          "2023-04-20T00:00:00",
          "2023-04-21T00:00:00",
          "2023-04-24T00:00:00",
          "2023-04-25T00:00:00",
          "2023-04-26T00:00:00",
          "2023-04-27T00:00:00",
          "2023-04-28T00:00:00",
          "2023-02-05T00:00:00",
          "2023-03-05T00:00:00",
          "2023-04-05T00:00:00",
          "2023-05-05T00:00:00",
          "2023-08-05T00:00:00",
          "2023-09-05T00:00:00",
          "2023-10-05T00:00:00",
          "2023-11-05T00:00:00",
          "2023-12-05T00:00:00",
          "2023-05-15T00:00:00",
          "2023-05-16T00:00:00",
          "2023-05-17T00:00:00",
          "2023-05-18T00:00:00",
          "2023-05-19T00:00:00",
          "2023-05-22T00:00:00",
          "2023-05-23T00:00:00",
          "2023-05-24T00:00:00",
          "2023-05-25T00:00:00",
          "2023-05-26T00:00:00",
          "2023-05-29T00:00:00",
          "2023-05-30T00:00:00",
          "2023-05-31T00:00:00",
          "2023-01-06T00:00:00",
          "2023-02-06T00:00:00",
          "2023-05-06T00:00:00",
          "2023-06-06T00:00:00",
          "2023-07-06T00:00:00",
          "2023-08-06T00:00:00",
          "2023-09-06T00:00:00",
          "2023-12-06T00:00:00",
          "2023-06-13T00:00:00",
          "2023-06-14T00:00:00",
          "2023-06-15T00:00:00",
          "2023-06-16T00:00:00",
          "2023-06-19T00:00:00",
          "2023-06-20T00:00:00",
          "2023-06-21T00:00:00",
          "2023-06-22T00:00:00",
          "2023-06-23T00:00:00",
          "2023-06-26T00:00:00",
          "2023-06-27T00:00:00",
          "2023-06-28T00:00:00",
          "2023-06-30T00:00:00",
          "2023-03-07T00:00:00",
          "2023-04-07T00:00:00",
          "2023-05-07T00:00:00",
          "2023-06-07T00:00:00",
          "2023-07-07T00:00:00",
          "2023-10-07T00:00:00",
          "2023-11-07T00:00:00",
          "2023-12-07T00:00:00",
          "2023-07-13T00:00:00",
          "2023-07-14T00:00:00",
          "2023-07-17T00:00:00",
          "2023-07-18T00:00:00",
          "2023-07-19T00:00:00",
          "2023-07-20T00:00:00",
          "2023-07-21T00:00:00",
          "2023-07-24T00:00:00",
          "2023-07-25T00:00:00",
          "2023-07-26T00:00:00",
          "2023-07-27T00:00:00",
          "2023-07-28T00:00:00",
          "2023-07-31T00:00:00",
          "2023-01-08T00:00:00",
          "2023-02-08T00:00:00",
          "2023-03-08T00:00:00",
          "2023-04-08T00:00:00",
          "2023-07-08T00:00:00",
          "2023-08-08T00:00:00",
          "2023-09-08T00:00:00",
          "2023-10-08T00:00:00",
          "2023-11-08T00:00:00",
          "2023-08-14T00:00:00",
          "2023-08-16T00:00:00",
          "2023-08-17T00:00:00",
          "2023-08-18T00:00:00",
          "2023-08-21T00:00:00",
          "2023-08-22T00:00:00",
          "2023-08-23T00:00:00",
          "2023-08-24T00:00:00",
          "2023-08-25T00:00:00",
          "2023-08-28T00:00:00",
          "2023-08-29T00:00:00",
          "2023-08-30T00:00:00",
          "2023-08-31T00:00:00",
          "2023-01-09T00:00:00",
          "2023-04-09T00:00:00",
          "2023-05-09T00:00:00",
          "2023-06-09T00:00:00",
          "2023-07-09T00:00:00",
          "2023-08-09T00:00:00",
          "2023-11-09T00:00:00",
          "2023-12-09T00:00:00",
          "2023-09-13T00:00:00",
          "2023-09-14T00:00:00",
          "2023-09-15T00:00:00",
          "2023-09-18T00:00:00",
          "2023-09-20T00:00:00",
          "2023-09-21T00:00:00",
          "2023-09-22T00:00:00",
          "2023-09-25T00:00:00",
          "2023-09-26T00:00:00",
          "2023-09-27T00:00:00",
          "2023-09-28T00:00:00",
          "2023-09-29T00:00:00",
          "2023-03-10T00:00:00",
          "2023-04-10T00:00:00",
          "2023-05-10T00:00:00",
          "2023-06-10T00:00:00",
          "2023-09-10T00:00:00",
          "2023-10-10T00:00:00",
          "2023-11-10T00:00:00",
          "2023-12-10T00:00:00",
          "2023-10-13T00:00:00",
          "2023-10-16T00:00:00",
          "2023-10-17T00:00:00",
          "2023-10-18T00:00:00",
          "2023-10-19T00:00:00",
          "2023-10-20T00:00:00",
          "2023-10-23T00:00:00",
          "2023-10-25T00:00:00",
          "2023-10-26T00:00:00",
          "2023-10-27T00:00:00",
          "2023-10-30T00:00:00",
          "2023-10-31T00:00:00",
          "2023-01-11T00:00:00",
          "2023-02-11T00:00:00",
          "2023-03-11T00:00:00",
          "2023-06-11T00:00:00",
          "2023-07-11T00:00:00",
          "2023-08-11T00:00:00",
          "2023-09-11T00:00:00",
          "2023-10-11T00:00:00",
          "2023-12-11T00:00:00",
          "2023-11-13T00:00:00",
          "2023-11-15T00:00:00",
          "2023-11-16T00:00:00",
          "2023-11-17T00:00:00",
          "2023-11-20T00:00:00",
          "2023-11-21T00:00:00",
          "2023-11-22T00:00:00",
          "2023-11-23T00:00:00",
          "2023-11-24T00:00:00",
          "2023-11-28T00:00:00",
          "2023-11-29T00:00:00",
          "2023-11-30T00:00:00",
          "2023-01-12T00:00:00",
          "2023-04-12T00:00:00",
          "2023-05-12T00:00:00",
          "2023-06-12T00:00:00",
          "2023-07-12T00:00:00",
          "2023-08-12T00:00:00",
          "2023-11-12T00:00:00",
          "2023-12-12T00:00:00",
          "2023-12-13T00:00:00",
          "2023-12-14T00:00:00",
          "2023-12-15T00:00:00",
          "2023-12-18T00:00:00",
          "2023-12-19T00:00:00",
          "2023-12-20T00:00:00",
          "2023-12-21T00:00:00",
          "2023-12-22T00:00:00",
          "2023-12-26T00:00:00",
          "2023-12-27T00:00:00",
          "2023-12-28T00:00:00",
          "2023-12-29T00:00:00",
          "2024-01-01T00:00:00",
          "2024-02-01T00:00:00",
          "2024-03-01T00:00:00",
          "2024-04-01T00:00:00",
          "2024-05-01T00:00:00",
          "2024-08-01T00:00:00",
          "2024-09-01T00:00:00",
          "2024-10-01T00:00:00",
          "2024-11-01T00:00:00",
          "2024-12-01T00:00:00",
          "2024-01-15T00:00:00",
          "2024-01-16T00:00:00",
          "2024-01-17T00:00:00",
          "2024-01-18T00:00:00"
         ],
         "y": [
          90.7,
          92.1,
          91.5,
          93.1,
          91,
          89.9,
          88.15,
          86.85,
          90.6,
          89,
          89,
          85.95,
          84.45,
          82.45,
          84.55,
          85.35,
          84.55,
          83.35,
          84.2,
          84.15,
          85.8,
          86.15,
          86.05,
          87.15,
          84.55,
          84.9,
          82.95,
          83,
          82.75,
          85.25,
          86.3,
          87.8,
          87.45,
          87.4,
          87.75,
          88.1,
          86.95,
          86.8,
          87.65,
          85.3,
          88.65,
          86.6,
          87.05,
          85.05,
          85.85,
          82.35,
          81.2,
          80.8,
          82.55,
          82.7,
          83.8,
          82.5,
          82.1,
          82.45,
          82.45,
          82.7,
          81.55,
          82.3,
          82.3,
          82.65,
          83.2,
          81.6,
          82,
          81.95,
          81.2,
          81.7,
          82.8,
          84.6,
          85.15,
          85.7,
          82.7,
          84.3,
          84.2,
          83.95,
          84.1,
          83.05,
          84.25,
          84.05,
          82.8,
          82.5,
          82.15,
          82.05,
          82.6,
          82.5,
          82.25,
          82.1,
          84.3,
          83.2,
          82.5,
          82.2,
          83.6,
          83.7,
          83.2,
          84.75,
          84.05,
          82.9,
          83.55,
          84.1,
          84.75,
          84.8,
          85.15,
          85.9,
          86,
          85.85,
          85.15,
          84.4,
          84.45,
          85,
          85.2,
          85.5,
          87.5,
          87.25,
          88.05,
          87.8,
          86.8,
          90.05,
          90,
          89.6,
          89.85,
          91.25,
          91.6,
          90.3,
          90.8,
          89.9,
          90.15,
          89.9,
          92.25,
          92.2,
          92.5,
          92.7,
          94.6,
          95.6,
          92.95,
          92.9,
          94,
          94.05,
          92.6,
          92.95,
          92.9,
          91.1,
          87.1,
          84.9,
          84.9,
          84.35,
          86.05,
          85.7,
          86.05,
          86.55,
          85.65,
          86.95,
          88.45,
          91.4,
          90.7,
          96.95,
          102.75,
          101.75,
          99.3,
          99.55,
          98.9,
          99.95,
          93.75,
          96,
          98.65,
          96.35,
          96.9,
          95.35,
          94.35,
          93.2,
          93.1,
          93.5,
          92.9,
          91.8,
          93.85,
          91.7,
          89.25,
          88.65,
          88.85,
          86.35,
          88.8,
          88.6,
          89.35,
          88.9,
          89.2,
          89.5,
          87.75,
          88.5,
          86.9,
          83.35,
          84.15,
          83.25,
          83.95,
          83.85,
          83.85,
          82.9,
          85.05,
          84.9,
          86.85,
          85.3,
          85.95,
          87.15,
          88.1,
          89.5,
          88.2,
          88.4,
          88,
          89.3,
          90.35,
          90.65,
          89.25,
          89.85,
          89.2,
          90.95,
          91.2,
          92.3,
          93.15,
          94,
          95.75,
          99.35,
          98.95,
          98.1,
          100.8,
          100,
          103.25,
          110.95,
          111.45,
          115.45,
          111.05,
          103.7,
          109,
          112.75,
          113.55,
          115.45,
          122.85,
          123.65,
          124.7,
          123,
          119.1,
          118.65,
          116.95,
          114.3,
          114.2,
          115.05,
          113.5,
          114.9,
          114.65,
          119.55,
          113.1,
          113.05
         ]
        },
        {
         "marker": {
          "color": "red"
         },
         "mode": "markers",
         "name": "Final Anomalies",
         "type": "scatter",
         "x": [
          "2023-03-28T00:00:00",
          "2023-01-09T00:00:00",
          "2023-04-09T00:00:00",
          "2023-05-09T00:00:00",
          "2023-06-09T00:00:00",
          "2023-07-09T00:00:00",
          "2023-08-09T00:00:00",
          "2023-11-09T00:00:00",
          "2023-12-09T00:00:00",
          "2023-06-12T00:00:00",
          "2023-07-12T00:00:00",
          "2023-11-12T00:00:00",
          "2023-12-12T00:00:00",
          "2023-12-13T00:00:00",
          "2023-12-14T00:00:00",
          "2023-12-15T00:00:00",
          "2023-12-18T00:00:00",
          "2023-12-19T00:00:00",
          "2023-12-20T00:00:00",
          "2023-12-21T00:00:00",
          "2023-12-22T00:00:00",
          "2023-12-26T00:00:00",
          "2023-12-27T00:00:00",
          "2023-12-28T00:00:00",
          "2023-12-29T00:00:00",
          "2024-01-01T00:00:00",
          "2024-02-01T00:00:00",
          "2024-03-01T00:00:00",
          "2024-04-01T00:00:00",
          "2024-05-01T00:00:00",
          "2024-08-01T00:00:00",
          "2024-09-01T00:00:00",
          "2024-10-01T00:00:00",
          "2024-11-01T00:00:00",
          "2024-12-01T00:00:00",
          "2024-01-15T00:00:00",
          "2024-01-16T00:00:00",
          "2024-01-17T00:00:00",
          "2024-01-18T00:00:00"
         ],
         "y": [
          80.8,
          96.95,
          102.75,
          101.75,
          99.3,
          99.55,
          98.9,
          99.95,
          93.75,
          99.35,
          98.95,
          100.8,
          100,
          103.25,
          110.95,
          111.45,
          115.45,
          111.05,
          103.7,
          109,
          112.75,
          113.55,
          115.45,
          122.85,
          123.65,
          124.7,
          123,
          119.1,
          118.65,
          116.95,
          114.3,
          114.2,
          115.05,
          113.5,
          114.9,
          114.65,
          119.55,
          113.1,
          113.05
         ]
        }
       ],
       "layout": {
        "template": {
         "data": {
          "bar": [
           {
            "error_x": {
             "color": "#2a3f5f"
            },
            "error_y": {
             "color": "#2a3f5f"
            },
            "marker": {
             "line": {
              "color": "#E5ECF6",
              "width": 0.5
             },
             "pattern": {
              "fillmode": "overlay",
              "size": 10,
              "solidity": 0.2
             }
            },
            "type": "bar"
           }
          ],
          "barpolar": [
           {
            "marker": {
             "line": {
              "color": "#E5ECF6",
              "width": 0.5
             },
             "pattern": {
              "fillmode": "overlay",
              "size": 10,
              "solidity": 0.2
             }
            },
            "type": "barpolar"
           }
          ],
          "carpet": [
           {
            "aaxis": {
             "endlinecolor": "#2a3f5f",
             "gridcolor": "white",
             "linecolor": "white",
             "minorgridcolor": "white",
             "startlinecolor": "#2a3f5f"
            },
            "baxis": {
             "endlinecolor": "#2a3f5f",
             "gridcolor": "white",
             "linecolor": "white",
             "minorgridcolor": "white",
             "startlinecolor": "#2a3f5f"
            },
            "type": "carpet"
           }
          ],
          "choropleth": [
           {
            "colorbar": {
             "outlinewidth": 0,
             "ticks": ""
            },
            "type": "choropleth"
           }
          ],
          "contour": [
           {
            "colorbar": {
             "outlinewidth": 0,
             "ticks": ""
            },
            "colorscale": [
             [
              0,
              "#0d0887"
             ],
             [
              0.1111111111111111,
              "#46039f"
             ],
             [
              0.2222222222222222,
              "#7201a8"
             ],
             [
              0.3333333333333333,
              "#9c179e"
             ],
             [
              0.4444444444444444,
              "#bd3786"
             ],
             [
              0.5555555555555556,
              "#d8576b"
             ],
             [
              0.6666666666666666,
              "#ed7953"
             ],
             [
              0.7777777777777778,
              "#fb9f3a"
             ],
             [
              0.8888888888888888,
              "#fdca26"
             ],
             [
              1,
              "#f0f921"
             ]
            ],
            "type": "contour"
           }
          ],
          "contourcarpet": [
           {
            "colorbar": {
             "outlinewidth": 0,
             "ticks": ""
            },
            "type": "contourcarpet"
           }
          ],
          "heatmap": [
           {
            "colorbar": {
             "outlinewidth": 0,
             "ticks": ""
            },
            "colorscale": [
             [
              0,
              "#0d0887"
             ],
             [
              0.1111111111111111,
              "#46039f"
             ],
             [
              0.2222222222222222,
              "#7201a8"
             ],
             [
              0.3333333333333333,
              "#9c179e"
             ],
             [
              0.4444444444444444,
              "#bd3786"
             ],
             [
              0.5555555555555556,
              "#d8576b"
             ],
             [
              0.6666666666666666,
              "#ed7953"
             ],
             [
              0.7777777777777778,
              "#fb9f3a"
             ],
             [
              0.8888888888888888,
              "#fdca26"
             ],
             [
              1,
              "#f0f921"
             ]
            ],
            "type": "heatmap"
           }
          ],
          "heatmapgl": [
           {
            "colorbar": {
             "outlinewidth": 0,
             "ticks": ""
            },
            "colorscale": [
             [
              0,
              "#0d0887"
             ],
             [
              0.1111111111111111,
              "#46039f"
             ],
             [
              0.2222222222222222,
              "#7201a8"
             ],
             [
              0.3333333333333333,
              "#9c179e"
             ],
             [
              0.4444444444444444,
              "#bd3786"
             ],
             [
              0.5555555555555556,
              "#d8576b"
             ],
             [
              0.6666666666666666,
              "#ed7953"
             ],
             [
              0.7777777777777778,
              "#fb9f3a"
             ],
             [
              0.8888888888888888,
              "#fdca26"
             ],
             [
              1,
              "#f0f921"
             ]
            ],
            "type": "heatmapgl"
           }
          ],
          "histogram": [
           {
            "marker": {
             "pattern": {
              "fillmode": "overlay",
              "size": 10,
              "solidity": 0.2
             }
            },
            "type": "histogram"
           }
          ],
          "histogram2d": [
           {
            "colorbar": {
             "outlinewidth": 0,
             "ticks": ""
            },
            "colorscale": [
             [
              0,
              "#0d0887"
             ],
             [
              0.1111111111111111,
              "#46039f"
             ],
             [
              0.2222222222222222,
              "#7201a8"
             ],
             [
              0.3333333333333333,
              "#9c179e"
             ],
             [
              0.4444444444444444,
              "#bd3786"
             ],
             [
              0.5555555555555556,
              "#d8576b"
             ],
             [
              0.6666666666666666,
              "#ed7953"
             ],
             [
              0.7777777777777778,
              "#fb9f3a"
             ],
             [
              0.8888888888888888,
              "#fdca26"
             ],
             [
              1,
              "#f0f921"
             ]
            ],
            "type": "histogram2d"
           }
          ],
          "histogram2dcontour": [
           {
            "colorbar": {
             "outlinewidth": 0,
             "ticks": ""
            },
            "colorscale": [
             [
              0,
              "#0d0887"
             ],
             [
              0.1111111111111111,
              "#46039f"
             ],
             [
              0.2222222222222222,
              "#7201a8"
             ],
             [
              0.3333333333333333,
              "#9c179e"
             ],
             [
              0.4444444444444444,
              "#bd3786"
             ],
             [
              0.5555555555555556,
              "#d8576b"
             ],
             [
              0.6666666666666666,
              "#ed7953"
             ],
             [
              0.7777777777777778,
              "#fb9f3a"
             ],
             [
              0.8888888888888888,
              "#fdca26"
             ],
             [
              1,
              "#f0f921"
             ]
            ],
            "type": "histogram2dcontour"
           }
          ],
          "mesh3d": [
           {
            "colorbar": {
             "outlinewidth": 0,
             "ticks": ""
            },
            "type": "mesh3d"
           }
          ],
          "parcoords": [
           {
            "line": {
             "colorbar": {
              "outlinewidth": 0,
              "ticks": ""
             }
            },
            "type": "parcoords"
           }
          ],
          "pie": [
           {
            "automargin": true,
            "type": "pie"
           }
          ],
          "scatter": [
           {
            "fillpattern": {
             "fillmode": "overlay",
             "size": 10,
             "solidity": 0.2
            },
            "type": "scatter"
           }
          ],
          "scatter3d": [
           {
            "line": {
             "colorbar": {
              "outlinewidth": 0,
              "ticks": ""
             }
            },
            "marker": {
             "colorbar": {
              "outlinewidth": 0,
              "ticks": ""
             }
            },
            "type": "scatter3d"
           }
          ],
          "scattercarpet": [
           {
            "marker": {
             "colorbar": {
              "outlinewidth": 0,
              "ticks": ""
             }
            },
            "type": "scattercarpet"
           }
          ],
          "scattergeo": [
           {
            "marker": {
             "colorbar": {
              "outlinewidth": 0,
              "ticks": ""
             }
            },
            "type": "scattergeo"
           }
          ],
          "scattergl": [
           {
            "marker": {
             "colorbar": {
              "outlinewidth": 0,
              "ticks": ""
             }
            },
            "type": "scattergl"
           }
          ],
          "scattermapbox": [
           {
            "marker": {
             "colorbar": {
              "outlinewidth": 0,
              "ticks": ""
             }
            },
            "type": "scattermapbox"
           }
          ],
          "scatterpolar": [
           {
            "marker": {
             "colorbar": {
              "outlinewidth": 0,
              "ticks": ""
             }
            },
            "type": "scatterpolar"
           }
          ],
          "scatterpolargl": [
           {
            "marker": {
             "colorbar": {
              "outlinewidth": 0,
              "ticks": ""
             }
            },
            "type": "scatterpolargl"
           }
          ],
          "scatterternary": [
           {
            "marker": {
             "colorbar": {
              "outlinewidth": 0,
              "ticks": ""
             }
            },
            "type": "scatterternary"
           }
          ],
          "surface": [
           {
            "colorbar": {
             "outlinewidth": 0,
             "ticks": ""
            },
            "colorscale": [
             [
              0,
              "#0d0887"
             ],
             [
              0.1111111111111111,
              "#46039f"
             ],
             [
              0.2222222222222222,
              "#7201a8"
             ],
             [
              0.3333333333333333,
              "#9c179e"
             ],
             [
              0.4444444444444444,
              "#bd3786"
             ],
             [
              0.5555555555555556,
              "#d8576b"
             ],
             [
              0.6666666666666666,
              "#ed7953"
             ],
             [
              0.7777777777777778,
              "#fb9f3a"
             ],
             [
              0.8888888888888888,
              "#fdca26"
             ],
             [
              1,
              "#f0f921"
             ]
            ],
            "type": "surface"
           }
          ],
          "table": [
           {
            "cells": {
             "fill": {
              "color": "#EBF0F8"
             },
             "line": {
              "color": "white"
             }
            },
            "header": {
             "fill": {
              "color": "#C8D4E3"
             },
             "line": {
              "color": "white"
             }
            },
            "type": "table"
           }
          ]
         },
         "layout": {
          "annotationdefaults": {
           "arrowcolor": "#2a3f5f",
           "arrowhead": 0,
           "arrowwidth": 1
          },
          "autotypenumbers": "strict",
          "coloraxis": {
           "colorbar": {
            "outlinewidth": 0,
            "ticks": ""
           }
          },
          "colorscale": {
           "diverging": [
            [
             0,
             "#8e0152"
            ],
            [
             0.1,
             "#c51b7d"
            ],
            [
             0.2,
             "#de77ae"
            ],
            [
             0.3,
             "#f1b6da"
            ],
            [
             0.4,
             "#fde0ef"
            ],
            [
             0.5,
             "#f7f7f7"
            ],
            [
             0.6,
             "#e6f5d0"
            ],
            [
             0.7,
             "#b8e186"
            ],
            [
             0.8,
             "#7fbc41"
            ],
            [
             0.9,
             "#4d9221"
            ],
            [
             1,
             "#276419"
            ]
           ],
           "sequential": [
            [
             0,
             "#0d0887"
            ],
            [
             0.1111111111111111,
             "#46039f"
            ],
            [
             0.2222222222222222,
             "#7201a8"
            ],
            [
             0.3333333333333333,
             "#9c179e"
            ],
            [
             0.4444444444444444,
             "#bd3786"
            ],
            [
             0.5555555555555556,
             "#d8576b"
            ],
            [
             0.6666666666666666,
             "#ed7953"
            ],
            [
             0.7777777777777778,
             "#fb9f3a"
            ],
            [
             0.8888888888888888,
             "#fdca26"
            ],
            [
             1,
             "#f0f921"
            ]
           ],
           "sequentialminus": [
            [
             0,
             "#0d0887"
            ],
            [
             0.1111111111111111,
             "#46039f"
            ],
            [
             0.2222222222222222,
             "#7201a8"
            ],
            [
             0.3333333333333333,
             "#9c179e"
            ],
            [
             0.4444444444444444,
             "#bd3786"
            ],
            [
             0.5555555555555556,
             "#d8576b"
            ],
            [
             0.6666666666666666,
             "#ed7953"
            ],
            [
             0.7777777777777778,
             "#fb9f3a"
            ],
            [
             0.8888888888888888,
             "#fdca26"
            ],
            [
             1,
             "#f0f921"
            ]
           ]
          },
          "colorway": [
           "#636efa",
           "#EF553B",
           "#00cc96",
           "#ab63fa",
           "#FFA15A",
           "#19d3f3",
           "#FF6692",
           "#B6E880",
           "#FF97FF",
           "#FECB52"
          ],
          "font": {
           "color": "#2a3f5f"
          },
          "geo": {
           "bgcolor": "white",
           "lakecolor": "white",
           "landcolor": "#E5ECF6",
           "showlakes": true,
           "showland": true,
           "subunitcolor": "white"
          },
          "hoverlabel": {
           "align": "left"
          },
          "hovermode": "closest",
          "mapbox": {
           "style": "light"
          },
          "paper_bgcolor": "white",
          "plot_bgcolor": "#E5ECF6",
          "polar": {
           "angularaxis": {
            "gridcolor": "white",
            "linecolor": "white",
            "ticks": ""
           },
           "bgcolor": "#E5ECF6",
           "radialaxis": {
            "gridcolor": "white",
            "linecolor": "white",
            "ticks": ""
           }
          },
          "scene": {
           "xaxis": {
            "backgroundcolor": "#E5ECF6",
            "gridcolor": "white",
            "gridwidth": 2,
            "linecolor": "white",
            "showbackground": true,
            "ticks": "",
            "zerolinecolor": "white"
           },
           "yaxis": {
            "backgroundcolor": "#E5ECF6",
            "gridcolor": "white",
            "gridwidth": 2,
            "linecolor": "white",
            "showbackground": true,
            "ticks": "",
            "zerolinecolor": "white"
           },
           "zaxis": {
            "backgroundcolor": "#E5ECF6",
            "gridcolor": "white",
            "gridwidth": 2,
            "linecolor": "white",
            "showbackground": true,
            "ticks": "",
            "zerolinecolor": "white"
           }
          },
          "shapedefaults": {
           "line": {
            "color": "#2a3f5f"
           }
          },
          "ternary": {
           "aaxis": {
            "gridcolor": "white",
            "linecolor": "white",
            "ticks": ""
           },
           "baxis": {
            "gridcolor": "white",
            "linecolor": "white",
            "ticks": ""
           },
           "bgcolor": "#E5ECF6",
           "caxis": {
            "gridcolor": "white",
            "linecolor": "white",
            "ticks": ""
           }
          },
          "title": {
           "x": 0.05
          },
          "xaxis": {
           "automargin": true,
           "gridcolor": "white",
           "linecolor": "white",
           "ticks": "",
           "title": {
            "standoff": 15
           },
           "zerolinecolor": "white",
           "zerolinewidth": 2
          },
          "yaxis": {
           "automargin": true,
           "gridcolor": "white",
           "linecolor": "white",
           "ticks": "",
           "title": {
            "standoff": 15
           },
           "zerolinecolor": "white",
           "zerolinewidth": 2
          }
         }
        },
        "title": {
         "text": "Stock Price with Final Anomalies Detected"
        },
        "xaxis": {
         "tickformat": "%Y",
         "tickmode": "array",
         "ticktext": [
          2023,
          2024
         ],
         "tickvals": [
          2023,
          2024
         ],
         "title": {
          "text": "Year"
         },
         "type": "category"
        },
        "yaxis": {
         "title": {
          "text": "Close Price"
         }
        }
       }
      },
      "text/html": [
       "<div>                            <div id=\"32c66163-4f27-40d7-85dd-ecdec79b4008\" class=\"plotly-graph-div\" style=\"height:525px; width:100%;\"></div>            <script type=\"text/javascript\">                require([\"plotly\"], function(Plotly) {                    window.PLOTLYENV=window.PLOTLYENV || {};                                    if (document.getElementById(\"32c66163-4f27-40d7-85dd-ecdec79b4008\")) {                    Plotly.newPlot(                        \"32c66163-4f27-40d7-85dd-ecdec79b4008\",                        [{\"mode\":\"lines\",\"name\":\"Close Price\",\"x\":[\"2023-01-18T00:00:00\",\"2023-01-19T00:00:00\",\"2023-01-20T00:00:00\",\"2023-01-23T00:00:00\",\"2023-01-24T00:00:00\",\"2023-01-25T00:00:00\",\"2023-01-27T00:00:00\",\"2023-01-30T00:00:00\",\"2023-01-31T00:00:00\",\"2023-01-02T00:00:00\",\"2023-02-02T00:00:00\",\"2023-03-02T00:00:00\",\"2023-06-02T00:00:00\",\"2023-07-02T00:00:00\",\"2023-08-02T00:00:00\",\"2023-09-02T00:00:00\",\"2023-10-02T00:00:00\",\"2023-02-13T00:00:00\",\"2023-02-14T00:00:00\",\"2023-02-15T00:00:00\",\"2023-02-16T00:00:00\",\"2023-02-17T00:00:00\",\"2023-02-20T00:00:00\",\"2023-02-21T00:00:00\",\"2023-02-22T00:00:00\",\"2023-02-23T00:00:00\",\"2023-02-24T00:00:00\",\"2023-02-27T00:00:00\",\"2023-02-28T00:00:00\",\"2023-01-03T00:00:00\",\"2023-02-03T00:00:00\",\"2023-03-03T00:00:00\",\"2023-06-03T00:00:00\",\"2023-08-03T00:00:00\",\"2023-09-03T00:00:00\",\"2023-10-03T00:00:00\",\"2023-03-13T00:00:00\",\"2023-03-14T00:00:00\",\"2023-03-15T00:00:00\",\"2023-03-16T00:00:00\",\"2023-03-17T00:00:00\",\"2023-03-20T00:00:00\",\"2023-03-21T00:00:00\",\"2023-03-22T00:00:00\",\"2023-03-23T00:00:00\",\"2023-03-24T00:00:00\",\"2023-03-27T00:00:00\",\"2023-03-28T00:00:00\",\"2023-03-29T00:00:00\",\"2023-03-31T00:00:00\",\"2023-03-04T00:00:00\",\"2023-05-04T00:00:00\",\"2023-06-04T00:00:00\",\"2023-10-04T00:00:00\",\"2023-11-04T00:00:00\",\"2023-12-04T00:00:00\",\"2023-04-13T00:00:00\",\"2023-04-17T00:00:00\",\"2023-04-18T00:00:00\",\"2023-04-19T00:00:00\",\"2023-04-20T00:00:00\",\"2023-04-21T00:00:00\",\"2023-04-24T00:00:00\",\"2023-04-25T00:00:00\",\"2023-04-26T00:00:00\",\"2023-04-27T00:00:00\",\"2023-04-28T00:00:00\",\"2023-02-05T00:00:00\",\"2023-03-05T00:00:00\",\"2023-04-05T00:00:00\",\"2023-05-05T00:00:00\",\"2023-08-05T00:00:00\",\"2023-09-05T00:00:00\",\"2023-10-05T00:00:00\",\"2023-11-05T00:00:00\",\"2023-12-05T00:00:00\",\"2023-05-15T00:00:00\",\"2023-05-16T00:00:00\",\"2023-05-17T00:00:00\",\"2023-05-18T00:00:00\",\"2023-05-19T00:00:00\",\"2023-05-22T00:00:00\",\"2023-05-23T00:00:00\",\"2023-05-24T00:00:00\",\"2023-05-25T00:00:00\",\"2023-05-26T00:00:00\",\"2023-05-29T00:00:00\",\"2023-05-30T00:00:00\",\"2023-05-31T00:00:00\",\"2023-01-06T00:00:00\",\"2023-02-06T00:00:00\",\"2023-05-06T00:00:00\",\"2023-06-06T00:00:00\",\"2023-07-06T00:00:00\",\"2023-08-06T00:00:00\",\"2023-09-06T00:00:00\",\"2023-12-06T00:00:00\",\"2023-06-13T00:00:00\",\"2023-06-14T00:00:00\",\"2023-06-15T00:00:00\",\"2023-06-16T00:00:00\",\"2023-06-19T00:00:00\",\"2023-06-20T00:00:00\",\"2023-06-21T00:00:00\",\"2023-06-22T00:00:00\",\"2023-06-23T00:00:00\",\"2023-06-26T00:00:00\",\"2023-06-27T00:00:00\",\"2023-06-28T00:00:00\",\"2023-06-30T00:00:00\",\"2023-03-07T00:00:00\",\"2023-04-07T00:00:00\",\"2023-05-07T00:00:00\",\"2023-06-07T00:00:00\",\"2023-07-07T00:00:00\",\"2023-10-07T00:00:00\",\"2023-11-07T00:00:00\",\"2023-12-07T00:00:00\",\"2023-07-13T00:00:00\",\"2023-07-14T00:00:00\",\"2023-07-17T00:00:00\",\"2023-07-18T00:00:00\",\"2023-07-19T00:00:00\",\"2023-07-20T00:00:00\",\"2023-07-21T00:00:00\",\"2023-07-24T00:00:00\",\"2023-07-25T00:00:00\",\"2023-07-26T00:00:00\",\"2023-07-27T00:00:00\",\"2023-07-28T00:00:00\",\"2023-07-31T00:00:00\",\"2023-01-08T00:00:00\",\"2023-02-08T00:00:00\",\"2023-03-08T00:00:00\",\"2023-04-08T00:00:00\",\"2023-07-08T00:00:00\",\"2023-08-08T00:00:00\",\"2023-09-08T00:00:00\",\"2023-10-08T00:00:00\",\"2023-11-08T00:00:00\",\"2023-08-14T00:00:00\",\"2023-08-16T00:00:00\",\"2023-08-17T00:00:00\",\"2023-08-18T00:00:00\",\"2023-08-21T00:00:00\",\"2023-08-22T00:00:00\",\"2023-08-23T00:00:00\",\"2023-08-24T00:00:00\",\"2023-08-25T00:00:00\",\"2023-08-28T00:00:00\",\"2023-08-29T00:00:00\",\"2023-08-30T00:00:00\",\"2023-08-31T00:00:00\",\"2023-01-09T00:00:00\",\"2023-04-09T00:00:00\",\"2023-05-09T00:00:00\",\"2023-06-09T00:00:00\",\"2023-07-09T00:00:00\",\"2023-08-09T00:00:00\",\"2023-11-09T00:00:00\",\"2023-12-09T00:00:00\",\"2023-09-13T00:00:00\",\"2023-09-14T00:00:00\",\"2023-09-15T00:00:00\",\"2023-09-18T00:00:00\",\"2023-09-20T00:00:00\",\"2023-09-21T00:00:00\",\"2023-09-22T00:00:00\",\"2023-09-25T00:00:00\",\"2023-09-26T00:00:00\",\"2023-09-27T00:00:00\",\"2023-09-28T00:00:00\",\"2023-09-29T00:00:00\",\"2023-03-10T00:00:00\",\"2023-04-10T00:00:00\",\"2023-05-10T00:00:00\",\"2023-06-10T00:00:00\",\"2023-09-10T00:00:00\",\"2023-10-10T00:00:00\",\"2023-11-10T00:00:00\",\"2023-12-10T00:00:00\",\"2023-10-13T00:00:00\",\"2023-10-16T00:00:00\",\"2023-10-17T00:00:00\",\"2023-10-18T00:00:00\",\"2023-10-19T00:00:00\",\"2023-10-20T00:00:00\",\"2023-10-23T00:00:00\",\"2023-10-25T00:00:00\",\"2023-10-26T00:00:00\",\"2023-10-27T00:00:00\",\"2023-10-30T00:00:00\",\"2023-10-31T00:00:00\",\"2023-01-11T00:00:00\",\"2023-02-11T00:00:00\",\"2023-03-11T00:00:00\",\"2023-06-11T00:00:00\",\"2023-07-11T00:00:00\",\"2023-08-11T00:00:00\",\"2023-09-11T00:00:00\",\"2023-10-11T00:00:00\",\"2023-12-11T00:00:00\",\"2023-11-13T00:00:00\",\"2023-11-15T00:00:00\",\"2023-11-16T00:00:00\",\"2023-11-17T00:00:00\",\"2023-11-20T00:00:00\",\"2023-11-21T00:00:00\",\"2023-11-22T00:00:00\",\"2023-11-23T00:00:00\",\"2023-11-24T00:00:00\",\"2023-11-28T00:00:00\",\"2023-11-29T00:00:00\",\"2023-11-30T00:00:00\",\"2023-01-12T00:00:00\",\"2023-04-12T00:00:00\",\"2023-05-12T00:00:00\",\"2023-06-12T00:00:00\",\"2023-07-12T00:00:00\",\"2023-08-12T00:00:00\",\"2023-11-12T00:00:00\",\"2023-12-12T00:00:00\",\"2023-12-13T00:00:00\",\"2023-12-14T00:00:00\",\"2023-12-15T00:00:00\",\"2023-12-18T00:00:00\",\"2023-12-19T00:00:00\",\"2023-12-20T00:00:00\",\"2023-12-21T00:00:00\",\"2023-12-22T00:00:00\",\"2023-12-26T00:00:00\",\"2023-12-27T00:00:00\",\"2023-12-28T00:00:00\",\"2023-12-29T00:00:00\",\"2024-01-01T00:00:00\",\"2024-02-01T00:00:00\",\"2024-03-01T00:00:00\",\"2024-04-01T00:00:00\",\"2024-05-01T00:00:00\",\"2024-08-01T00:00:00\",\"2024-09-01T00:00:00\",\"2024-10-01T00:00:00\",\"2024-11-01T00:00:00\",\"2024-12-01T00:00:00\",\"2024-01-15T00:00:00\",\"2024-01-16T00:00:00\",\"2024-01-17T00:00:00\",\"2024-01-18T00:00:00\"],\"y\":[90.7,92.1,91.5,93.1,91.0,89.9,88.15,86.85,90.6,89.0,89.0,85.95,84.45,82.45,84.55,85.35,84.55,83.35,84.2,84.15,85.8,86.15,86.05,87.15,84.55,84.9,82.95,83.0,82.75,85.25,86.3,87.8,87.45,87.4,87.75,88.1,86.95,86.8,87.65,85.3,88.65,86.6,87.05,85.05,85.85,82.35,81.2,80.8,82.55,82.7,83.8,82.5,82.1,82.45,82.45,82.7,81.55,82.3,82.3,82.65,83.2,81.6,82.0,81.95,81.2,81.7,82.8,84.6,85.15,85.7,82.7,84.3,84.2,83.95,84.1,83.05,84.25,84.05,82.8,82.5,82.15,82.05,82.6,82.5,82.25,82.1,84.3,83.2,82.5,82.2,83.6,83.7,83.2,84.75,84.05,82.9,83.55,84.1,84.75,84.8,85.15,85.9,86.0,85.85,85.15,84.4,84.45,85.0,85.2,85.5,87.5,87.25,88.05,87.8,86.8,90.05,90.0,89.6,89.85,91.25,91.6,90.3,90.8,89.9,90.15,89.9,92.25,92.2,92.5,92.7,94.6,95.6,92.95,92.9,94.0,94.05,92.6,92.95,92.9,91.1,87.1,84.9,84.9,84.35,86.05,85.7,86.05,86.55,85.65,86.95,88.45,91.4,90.7,96.95,102.75,101.75,99.3,99.55,98.9,99.95,93.75,96.0,98.65,96.35,96.9,95.35,94.35,93.2,93.1,93.5,92.9,91.8,93.85,91.7,89.25,88.65,88.85,86.35,88.8,88.6,89.35,88.9,89.2,89.5,87.75,88.5,86.9,83.35,84.15,83.25,83.95,83.85,83.85,82.9,85.05,84.9,86.85,85.3,85.95,87.15,88.1,89.5,88.2,88.4,88.0,89.3,90.35,90.65,89.25,89.85,89.2,90.95,91.2,92.3,93.15,94.0,95.75,99.35,98.95,98.1,100.8,100.0,103.25,110.95,111.45,115.45,111.05,103.7,109.0,112.75,113.55,115.45,122.85,123.65,124.7,123.0,119.1,118.65,116.95,114.3,114.2,115.05,113.5,114.9,114.65,119.55,113.1,113.05],\"type\":\"scatter\"},{\"marker\":{\"color\":\"red\"},\"mode\":\"markers\",\"name\":\"Final Anomalies\",\"x\":[\"2023-03-28T00:00:00\",\"2023-01-09T00:00:00\",\"2023-04-09T00:00:00\",\"2023-05-09T00:00:00\",\"2023-06-09T00:00:00\",\"2023-07-09T00:00:00\",\"2023-08-09T00:00:00\",\"2023-11-09T00:00:00\",\"2023-12-09T00:00:00\",\"2023-06-12T00:00:00\",\"2023-07-12T00:00:00\",\"2023-11-12T00:00:00\",\"2023-12-12T00:00:00\",\"2023-12-13T00:00:00\",\"2023-12-14T00:00:00\",\"2023-12-15T00:00:00\",\"2023-12-18T00:00:00\",\"2023-12-19T00:00:00\",\"2023-12-20T00:00:00\",\"2023-12-21T00:00:00\",\"2023-12-22T00:00:00\",\"2023-12-26T00:00:00\",\"2023-12-27T00:00:00\",\"2023-12-28T00:00:00\",\"2023-12-29T00:00:00\",\"2024-01-01T00:00:00\",\"2024-02-01T00:00:00\",\"2024-03-01T00:00:00\",\"2024-04-01T00:00:00\",\"2024-05-01T00:00:00\",\"2024-08-01T00:00:00\",\"2024-09-01T00:00:00\",\"2024-10-01T00:00:00\",\"2024-11-01T00:00:00\",\"2024-12-01T00:00:00\",\"2024-01-15T00:00:00\",\"2024-01-16T00:00:00\",\"2024-01-17T00:00:00\",\"2024-01-18T00:00:00\"],\"y\":[80.8,96.95,102.75,101.75,99.3,99.55,98.9,99.95,93.75,99.35,98.95,100.8,100.0,103.25,110.95,111.45,115.45,111.05,103.7,109.0,112.75,113.55,115.45,122.85,123.65,124.7,123.0,119.1,118.65,116.95,114.3,114.2,115.05,113.5,114.9,114.65,119.55,113.1,113.05],\"type\":\"scatter\"}],                        {\"template\":{\"data\":{\"histogram2dcontour\":[{\"type\":\"histogram2dcontour\",\"colorbar\":{\"outlinewidth\":0,\"ticks\":\"\"},\"colorscale\":[[0.0,\"#0d0887\"],[0.1111111111111111,\"#46039f\"],[0.2222222222222222,\"#7201a8\"],[0.3333333333333333,\"#9c179e\"],[0.4444444444444444,\"#bd3786\"],[0.5555555555555556,\"#d8576b\"],[0.6666666666666666,\"#ed7953\"],[0.7777777777777778,\"#fb9f3a\"],[0.8888888888888888,\"#fdca26\"],[1.0,\"#f0f921\"]]}],\"choropleth\":[{\"type\":\"choropleth\",\"colorbar\":{\"outlinewidth\":0,\"ticks\":\"\"}}],\"histogram2d\":[{\"type\":\"histogram2d\",\"colorbar\":{\"outlinewidth\":0,\"ticks\":\"\"},\"colorscale\":[[0.0,\"#0d0887\"],[0.1111111111111111,\"#46039f\"],[0.2222222222222222,\"#7201a8\"],[0.3333333333333333,\"#9c179e\"],[0.4444444444444444,\"#bd3786\"],[0.5555555555555556,\"#d8576b\"],[0.6666666666666666,\"#ed7953\"],[0.7777777777777778,\"#fb9f3a\"],[0.8888888888888888,\"#fdca26\"],[1.0,\"#f0f921\"]]}],\"heatmap\":[{\"type\":\"heatmap\",\"colorbar\":{\"outlinewidth\":0,\"ticks\":\"\"},\"colorscale\":[[0.0,\"#0d0887\"],[0.1111111111111111,\"#46039f\"],[0.2222222222222222,\"#7201a8\"],[0.3333333333333333,\"#9c179e\"],[0.4444444444444444,\"#bd3786\"],[0.5555555555555556,\"#d8576b\"],[0.6666666666666666,\"#ed7953\"],[0.7777777777777778,\"#fb9f3a\"],[0.8888888888888888,\"#fdca26\"],[1.0,\"#f0f921\"]]}],\"heatmapgl\":[{\"type\":\"heatmapgl\",\"colorbar\":{\"outlinewidth\":0,\"ticks\":\"\"},\"colorscale\":[[0.0,\"#0d0887\"],[0.1111111111111111,\"#46039f\"],[0.2222222222222222,\"#7201a8\"],[0.3333333333333333,\"#9c179e\"],[0.4444444444444444,\"#bd3786\"],[0.5555555555555556,\"#d8576b\"],[0.6666666666666666,\"#ed7953\"],[0.7777777777777778,\"#fb9f3a\"],[0.8888888888888888,\"#fdca26\"],[1.0,\"#f0f921\"]]}],\"contourcarpet\":[{\"type\":\"contourcarpet\",\"colorbar\":{\"outlinewidth\":0,\"ticks\":\"\"}}],\"contour\":[{\"type\":\"contour\",\"colorbar\":{\"outlinewidth\":0,\"ticks\":\"\"},\"colorscale\":[[0.0,\"#0d0887\"],[0.1111111111111111,\"#46039f\"],[0.2222222222222222,\"#7201a8\"],[0.3333333333333333,\"#9c179e\"],[0.4444444444444444,\"#bd3786\"],[0.5555555555555556,\"#d8576b\"],[0.6666666666666666,\"#ed7953\"],[0.7777777777777778,\"#fb9f3a\"],[0.8888888888888888,\"#fdca26\"],[1.0,\"#f0f921\"]]}],\"surface\":[{\"type\":\"surface\",\"colorbar\":{\"outlinewidth\":0,\"ticks\":\"\"},\"colorscale\":[[0.0,\"#0d0887\"],[0.1111111111111111,\"#46039f\"],[0.2222222222222222,\"#7201a8\"],[0.3333333333333333,\"#9c179e\"],[0.4444444444444444,\"#bd3786\"],[0.5555555555555556,\"#d8576b\"],[0.6666666666666666,\"#ed7953\"],[0.7777777777777778,\"#fb9f3a\"],[0.8888888888888888,\"#fdca26\"],[1.0,\"#f0f921\"]]}],\"mesh3d\":[{\"type\":\"mesh3d\",\"colorbar\":{\"outlinewidth\":0,\"ticks\":\"\"}}],\"scatter\":[{\"fillpattern\":{\"fillmode\":\"overlay\",\"size\":10,\"solidity\":0.2},\"type\":\"scatter\"}],\"parcoords\":[{\"type\":\"parcoords\",\"line\":{\"colorbar\":{\"outlinewidth\":0,\"ticks\":\"\"}}}],\"scatterpolargl\":[{\"type\":\"scatterpolargl\",\"marker\":{\"colorbar\":{\"outlinewidth\":0,\"ticks\":\"\"}}}],\"bar\":[{\"error_x\":{\"color\":\"#2a3f5f\"},\"error_y\":{\"color\":\"#2a3f5f\"},\"marker\":{\"line\":{\"color\":\"#E5ECF6\",\"width\":0.5},\"pattern\":{\"fillmode\":\"overlay\",\"size\":10,\"solidity\":0.2}},\"type\":\"bar\"}],\"scattergeo\":[{\"type\":\"scattergeo\",\"marker\":{\"colorbar\":{\"outlinewidth\":0,\"ticks\":\"\"}}}],\"scatterpolar\":[{\"type\":\"scatterpolar\",\"marker\":{\"colorbar\":{\"outlinewidth\":0,\"ticks\":\"\"}}}],\"histogram\":[{\"marker\":{\"pattern\":{\"fillmode\":\"overlay\",\"size\":10,\"solidity\":0.2}},\"type\":\"histogram\"}],\"scattergl\":[{\"type\":\"scattergl\",\"marker\":{\"colorbar\":{\"outlinewidth\":0,\"ticks\":\"\"}}}],\"scatter3d\":[{\"type\":\"scatter3d\",\"line\":{\"colorbar\":{\"outlinewidth\":0,\"ticks\":\"\"}},\"marker\":{\"colorbar\":{\"outlinewidth\":0,\"ticks\":\"\"}}}],\"scattermapbox\":[{\"type\":\"scattermapbox\",\"marker\":{\"colorbar\":{\"outlinewidth\":0,\"ticks\":\"\"}}}],\"scatterternary\":[{\"type\":\"scatterternary\",\"marker\":{\"colorbar\":{\"outlinewidth\":0,\"ticks\":\"\"}}}],\"scattercarpet\":[{\"type\":\"scattercarpet\",\"marker\":{\"colorbar\":{\"outlinewidth\":0,\"ticks\":\"\"}}}],\"carpet\":[{\"aaxis\":{\"endlinecolor\":\"#2a3f5f\",\"gridcolor\":\"white\",\"linecolor\":\"white\",\"minorgridcolor\":\"white\",\"startlinecolor\":\"#2a3f5f\"},\"baxis\":{\"endlinecolor\":\"#2a3f5f\",\"gridcolor\":\"white\",\"linecolor\":\"white\",\"minorgridcolor\":\"white\",\"startlinecolor\":\"#2a3f5f\"},\"type\":\"carpet\"}],\"table\":[{\"cells\":{\"fill\":{\"color\":\"#EBF0F8\"},\"line\":{\"color\":\"white\"}},\"header\":{\"fill\":{\"color\":\"#C8D4E3\"},\"line\":{\"color\":\"white\"}},\"type\":\"table\"}],\"barpolar\":[{\"marker\":{\"line\":{\"color\":\"#E5ECF6\",\"width\":0.5},\"pattern\":{\"fillmode\":\"overlay\",\"size\":10,\"solidity\":0.2}},\"type\":\"barpolar\"}],\"pie\":[{\"automargin\":true,\"type\":\"pie\"}]},\"layout\":{\"autotypenumbers\":\"strict\",\"colorway\":[\"#636efa\",\"#EF553B\",\"#00cc96\",\"#ab63fa\",\"#FFA15A\",\"#19d3f3\",\"#FF6692\",\"#B6E880\",\"#FF97FF\",\"#FECB52\"],\"font\":{\"color\":\"#2a3f5f\"},\"hovermode\":\"closest\",\"hoverlabel\":{\"align\":\"left\"},\"paper_bgcolor\":\"white\",\"plot_bgcolor\":\"#E5ECF6\",\"polar\":{\"bgcolor\":\"#E5ECF6\",\"angularaxis\":{\"gridcolor\":\"white\",\"linecolor\":\"white\",\"ticks\":\"\"},\"radialaxis\":{\"gridcolor\":\"white\",\"linecolor\":\"white\",\"ticks\":\"\"}},\"ternary\":{\"bgcolor\":\"#E5ECF6\",\"aaxis\":{\"gridcolor\":\"white\",\"linecolor\":\"white\",\"ticks\":\"\"},\"baxis\":{\"gridcolor\":\"white\",\"linecolor\":\"white\",\"ticks\":\"\"},\"caxis\":{\"gridcolor\":\"white\",\"linecolor\":\"white\",\"ticks\":\"\"}},\"coloraxis\":{\"colorbar\":{\"outlinewidth\":0,\"ticks\":\"\"}},\"colorscale\":{\"sequential\":[[0.0,\"#0d0887\"],[0.1111111111111111,\"#46039f\"],[0.2222222222222222,\"#7201a8\"],[0.3333333333333333,\"#9c179e\"],[0.4444444444444444,\"#bd3786\"],[0.5555555555555556,\"#d8576b\"],[0.6666666666666666,\"#ed7953\"],[0.7777777777777778,\"#fb9f3a\"],[0.8888888888888888,\"#fdca26\"],[1.0,\"#f0f921\"]],\"sequentialminus\":[[0.0,\"#0d0887\"],[0.1111111111111111,\"#46039f\"],[0.2222222222222222,\"#7201a8\"],[0.3333333333333333,\"#9c179e\"],[0.4444444444444444,\"#bd3786\"],[0.5555555555555556,\"#d8576b\"],[0.6666666666666666,\"#ed7953\"],[0.7777777777777778,\"#fb9f3a\"],[0.8888888888888888,\"#fdca26\"],[1.0,\"#f0f921\"]],\"diverging\":[[0,\"#8e0152\"],[0.1,\"#c51b7d\"],[0.2,\"#de77ae\"],[0.3,\"#f1b6da\"],[0.4,\"#fde0ef\"],[0.5,\"#f7f7f7\"],[0.6,\"#e6f5d0\"],[0.7,\"#b8e186\"],[0.8,\"#7fbc41\"],[0.9,\"#4d9221\"],[1,\"#276419\"]]},\"xaxis\":{\"gridcolor\":\"white\",\"linecolor\":\"white\",\"ticks\":\"\",\"title\":{\"standoff\":15},\"zerolinecolor\":\"white\",\"automargin\":true,\"zerolinewidth\":2},\"yaxis\":{\"gridcolor\":\"white\",\"linecolor\":\"white\",\"ticks\":\"\",\"title\":{\"standoff\":15},\"zerolinecolor\":\"white\",\"automargin\":true,\"zerolinewidth\":2},\"scene\":{\"xaxis\":{\"backgroundcolor\":\"#E5ECF6\",\"gridcolor\":\"white\",\"linecolor\":\"white\",\"showbackground\":true,\"ticks\":\"\",\"zerolinecolor\":\"white\",\"gridwidth\":2},\"yaxis\":{\"backgroundcolor\":\"#E5ECF6\",\"gridcolor\":\"white\",\"linecolor\":\"white\",\"showbackground\":true,\"ticks\":\"\",\"zerolinecolor\":\"white\",\"gridwidth\":2},\"zaxis\":{\"backgroundcolor\":\"#E5ECF6\",\"gridcolor\":\"white\",\"linecolor\":\"white\",\"showbackground\":true,\"ticks\":\"\",\"zerolinecolor\":\"white\",\"gridwidth\":2}},\"shapedefaults\":{\"line\":{\"color\":\"#2a3f5f\"}},\"annotationdefaults\":{\"arrowcolor\":\"#2a3f5f\",\"arrowhead\":0,\"arrowwidth\":1},\"geo\":{\"bgcolor\":\"white\",\"landcolor\":\"#E5ECF6\",\"subunitcolor\":\"white\",\"showland\":true,\"showlakes\":true,\"lakecolor\":\"white\"},\"title\":{\"x\":0.05},\"mapbox\":{\"style\":\"light\"}}},\"xaxis\":{\"type\":\"category\",\"tickmode\":\"array\",\"tickvals\":[2023,2024],\"ticktext\":[2023,2024],\"tickformat\":\"%Y\",\"title\":{\"text\":\"Year\"}},\"title\":{\"text\":\"Stock Price with Final Anomalies Detected\"},\"yaxis\":{\"title\":{\"text\":\"Close Price\"}}},                        {\"responsive\": true}                    ).then(function(){\n",
       "                            \n",
       "var gd = document.getElementById('32c66163-4f27-40d7-85dd-ecdec79b4008');\n",
       "var x = new MutationObserver(function (mutations, observer) {{\n",
       "        var display = window.getComputedStyle(gd).display;\n",
       "        if (!display || display === 'none') {{\n",
       "            console.log([gd, 'removed!']);\n",
       "            Plotly.purge(gd);\n",
       "            observer.disconnect();\n",
       "        }}\n",
       "}});\n",
       "\n",
       "// Listen for the removal of the full notebook cells\n",
       "var notebookContainer = gd.closest('#notebook-container');\n",
       "if (notebookContainer) {{\n",
       "    x.observe(notebookContainer, {childList: true});\n",
       "}}\n",
       "\n",
       "// Listen for the clearing of the current output cell\n",
       "var outputEl = gd.closest('.output');\n",
       "if (outputEl) {{\n",
       "    x.observe(outputEl, {childList: true});\n",
       "}}\n",
       "\n",
       "                        })                };                });            </script>        </div>"
      ]
     },
     "metadata": {},
     "output_type": "display_data"
    }
   ],
   "source": [
    "import pandas as pd\n",
    "import numpy as np\n",
    "from sklearn.ensemble import IsolationForest\n",
    "import plotly.graph_objects as go\n",
    "from prettytable import PrettyTable\n",
    "\n",
    "# Features for Isolation Forest\n",
    "features = ['Daily_Return', 'vwap ', 'HIGH ', 'LOW ']  # Add other features as needed\n",
    "\n",
    "# Select features for Isolation Forest\n",
    "X = df[features]\n",
    "\n",
    "# Fit Isolation Forest model\n",
    "isolation_forest_model = IsolationForest(contamination=0.05)  # Adjust contamination parameter\n",
    "df['Anomaly_Prediction'] = isolation_forest_model.fit_predict(X)\n",
    "\n",
    "# Merge results from statistical methods and Isolation Forest\n",
    "df['Final_Anomaly'] = np.logical_or.reduce([df['Anomalies_Z'], df['Anomalies_MAD'], df['Anomaly_Prediction'] == -1])\n",
    "\n",
    "# Create an interactive graph using Plotly\n",
    "fig = go.Figure()\n",
    "\n",
    "# Line graph for close prices\n",
    "fig.add_trace(go.Scatter(x=df['Date'], y=df['close '], mode='lines', name='Close Price'))\n",
    "\n",
    "# Red dots for final anomalies\n",
    "final_anomaly_dates = df[df['Final_Anomaly']]['Date']\n",
    "final_anomaly_prices = df[df['Final_Anomaly']]['close ']\n",
    "fig.add_trace(go.Scatter(x=final_anomaly_dates, y=final_anomaly_prices, mode='markers', marker=dict(color='red'), name='Final Anomalies'))\n",
    "\n",
    "# Update layout to display only the year on the x-axis\n",
    "fig.update_xaxes(type='category', tickmode='array', tickvals=df['Date'].dt.year.unique(), ticktext=df['Date'].dt.year.unique(), tickformat='%Y')\n",
    "\n",
    "# Display the plot\n",
    "fig.update_layout(title='Stock Price with Final Anomalies Detected', xaxis_title='Year', yaxis_title='Close Price')\n",
    "fig.show()"
   ]
  },
  {
   "cell_type": "code",
   "execution_count": 43,
   "id": "fbb90927",
   "metadata": {},
   "outputs": [
    {
     "name": "stdout",
     "output_type": "stream",
     "text": [
      "Rows corresponding to Final Anomalies:\n",
      "        Date  series    OPEN    HIGH     LOW   PREV. CLOSE     ltp   close   \\\n",
      "47   28-03-23      EQ   81.25   81.85   80.65         81.20   80.95   80.80   \n",
      "153  01-09-23      EQ   91.25   97.50   90.85         90.70   97.05   96.95   \n",
      "154  04-09-23      EQ   97.75  103.65   97.70         96.95  102.60  102.75   \n",
      "155  05-09-23      EQ  103.15  103.25   99.85        102.75  101.85  101.75   \n",
      "156  06-09-23      EQ  101.75  102.35   98.40        101.75   99.25   99.30   \n",
      "157  07-09-23      EQ   99.10  100.55   97.45         99.30   99.50   99.55   \n",
      "158  08-09-23      EQ  100.00  100.40   98.00         99.55   99.00   98.90   \n",
      "159  11-09-23      EQ   99.50  100.60   98.80         98.90  100.00   99.95   \n",
      "160  12-09-23      EQ  101.00  102.05   93.10         99.95   93.85   93.75   \n",
      "217  06-12-23      EQ   96.60  101.10   95.50         95.75   99.45   99.35   \n",
      "218  07-12-23      EQ   99.80  100.35   98.15         99.35   98.90   98.95   \n",
      "220  11-12-23      EQ   98.10  100.95   97.75         98.10  100.80  100.80   \n",
      "221  12-12-23      EQ  101.20  102.50   99.00        100.80  100.50  100.00   \n",
      "222  13-12-23      EQ  100.70  103.65  100.55        100.00  103.45  103.25   \n",
      "223  14-12-23      EQ  105.10  112.25  105.10        103.25  110.80  110.95   \n",
      "224  15-12-23      EQ  111.25  113.35  109.40        110.95  111.35  111.45   \n",
      "225  18-12-23      EQ  112.00  117.15  110.75        111.45  115.05  115.45   \n",
      "226  19-12-23      EQ  115.45  116.55  110.20        115.45  111.25  111.05   \n",
      "227  20-12-23      EQ  112.35  112.95  102.65        111.05  103.60  103.70   \n",
      "228  21-12-23      EQ  103.85  109.90  102.15        103.70  109.20  109.00   \n",
      "229  22-12-23      EQ  110.50  113.50  109.50        109.00  112.60  112.75   \n",
      "230  26-12-23      EQ  113.65  114.90  111.30        112.75  114.65  113.55   \n",
      "231  27-12-23      EQ  115.15  118.20  115.00        113.55  115.75  115.45   \n",
      "232  28-12-23      EQ  116.40  123.85  116.10        115.45  123.15  122.85   \n",
      "233  29-12-23      EQ  123.30  125.75  120.85        122.85  123.35  123.65   \n",
      "234  01-01-24      EQ  123.65  126.90  122.65        123.65  124.15  124.70   \n",
      "235  02-01-24      EQ  124.65  124.65  120.25        124.70  122.85  123.00   \n",
      "236  03-01-24      EQ  122.40  122.70  118.70        123.00  119.25  119.10   \n",
      "237  04-01-24      EQ  119.25  120.70  118.25        119.10  118.65  118.65   \n",
      "238  05-01-24      EQ  119.50  120.75  115.70        118.65  116.95  116.95   \n",
      "239  08-01-24      EQ  117.10  117.60  114.00        116.95  114.60  114.30   \n",
      "240  09-01-24      EQ  115.20  116.60  113.75        114.30  114.25  114.20   \n",
      "241  10-01-24      EQ  114.00  115.65  112.20        114.20  115.30  115.05   \n",
      "242  11-01-24      EQ  115.95  116.55  113.00        115.05  113.55  113.50   \n",
      "243  12-01-24      EQ  114.00  116.35  113.65        113.50  115.00  114.90   \n",
      "244  15-01-24      EQ  116.00  116.30  113.80        114.90  114.50  114.65   \n",
      "245  16-01-24      EQ  115.05  119.95  114.00        114.65  119.95  119.55   \n",
      "246  17-01-24      EQ  117.85  117.85  112.50        119.55  113.35  113.10   \n",
      "247  18-01-24      EQ  113.10  114.05  107.50        113.10  113.20  113.05   \n",
      "\n",
      "      vwap   52W H   52W L        VOLUME               VALUE  No of trades   \\\n",
      "47    81.17  112.35   63.60   1,10,90,113     90,02,39,459.90        30,430   \n",
      "153   94.86   97.50   73.20   5,23,88,079   4,96,94,85,148.35      1,05,163   \n",
      "154  101.85  103.65   73.20   6,50,68,908   6,62,72,44,505.20      1,60,158   \n",
      "155  101.37  103.65   73.20   3,03,94,405   3,08,09,58,442.70        82,241   \n",
      "156   99.63  103.65   73.20   2,55,76,766   2,54,82,58,395.70        70,772   \n",
      "157   99.05  103.65   73.20   2,03,24,016   2,01,29,93,992.90        46,413   \n",
      "158   98.71  103.65   73.20   2,13,81,211   2,11,05,00,654.30        52,097   \n",
      "159   99.86  103.65   73.20   1,60,85,094   1,60,62,73,362.95        44,064   \n",
      "160   96.42  103.65   73.20   2,83,81,920   2,73,66,63,248.00        75,054   \n",
      "217   98.77  103.65   73.75   7,48,17,529   7,38,99,70,238.20      1,29,474   \n",
      "218   99.17  103.65   73.75   2,24,13,672   2,22,27,93,123.25        58,808   \n",
      "220   99.83  103.65   73.75   2,97,21,883   2,96,70,58,534.65        66,224   \n",
      "221  101.50  103.65   73.75   4,07,88,275   4,14,01,64,595.55        92,433   \n",
      "222  102.36  103.65   73.75   4,27,97,594   4,38,06,72,150.30        92,759   \n",
      "223  109.74  112.25   73.75  17,78,34,487  19,51,56,68,502.80      3,09,872   \n",
      "224  111.45  113.35   73.75   6,94,03,738   7,73,48,77,697.70      1,55,114   \n",
      "225  115.25  117.15   73.75   7,86,49,010   9,06,45,12,156.20      1,61,038   \n",
      "226  112.76  117.15   73.75   3,54,13,677   3,99,31,88,320.80      1,05,312   \n",
      "227  108.04  117.15   73.75   4,16,17,472   4,49,61,93,054.65      1,37,139   \n",
      "228  106.08  117.15   73.75   5,21,12,170   5,52,78,67,820.90      1,14,605   \n",
      "229  112.04  117.15   73.75   5,62,23,938   6,29,96,03,562.60      1,18,448   \n",
      "230  112.93  117.15   73.75   3,70,93,574   4,18,89,13,644.40        76,614   \n",
      "231  116.68  118.20   73.75   8,77,56,029  10,23,90,68,255.60      1,88,585   \n",
      "232  120.57  123.85   73.75  11,28,86,813  13,61,02,45,662.45      2,66,035   \n",
      "233  123.23  125.75   73.75   6,54,38,649   8,06,36,82,701.05      1,42,741   \n",
      "234  125.58  126.90   77.60   3,75,25,817   4,71,23,04,822.20      1,14,816   \n",
      "235  122.84  126.90   77.60   3,87,18,627   4,75,63,19,134.60      1,14,017   \n",
      "236  119.71  126.90   77.60   3,04,59,539   3,64,64,46,979.25      1,09,058   \n",
      "237  119.27  126.90   77.60   2,14,39,561   2,55,71,00,395.45        72,912   \n",
      "238  118.12  126.90   77.60   2,27,84,093   2,69,12,50,226.95        81,379   \n",
      "239  115.21  126.90   77.60   2,18,30,246   2,51,49,72,032.40        74,722   \n",
      "240  115.31  126.90   77.60   1,69,93,314   1,95,95,31,779.00        59,185   \n",
      "241  113.96  126.90   77.60   2,09,63,866   2,38,89,76,440.50        73,714   \n",
      "242  114.64  126.90   77.60   1,65,65,652   1,89,90,65,814.00        56,069   \n",
      "243  115.12  126.90   77.60   1,94,98,240   2,24,45,97,515.95        60,586   \n",
      "244  114.95  126.90   77.60   1,60,54,366   1,84,54,62,497.80        58,723   \n",
      "245  117.78  126.90   77.60   6,35,60,474   7,48,61,00,088.40      1,56,239   \n",
      "246  114.83  126.90   77.60   5,98,98,451   6,87,80,02,177.80      1,72,153   \n",
      "247  111.27  126.90   77.60   3,91,66,751   4,35,81,71,619.55      1,30,312   \n",
      "\n",
      "          Date  Daily_Return  Anomalies_Return  Anomalies_Z  Anomalies_MAD  \\\n",
      "47  2023-03-28     -0.005538             False         True          False   \n",
      "153 2023-01-09      0.062466              True        False          False   \n",
      "154 2023-04-09      0.051151              True         True           True   \n",
      "155 2023-05-09     -0.013572             False         True           True   \n",
      "156 2023-06-09     -0.024079              True        False           True   \n",
      "157 2023-07-09      0.004541             False        False           True   \n",
      "158 2023-08-09     -0.011000             False        False           True   \n",
      "159 2023-11-09      0.004523             False        False           True   \n",
      "160 2023-12-09     -0.071782              True        False          False   \n",
      "217 2023-06-12      0.028468              True        False           True   \n",
      "218 2023-07-12     -0.008517             False        False           True   \n",
      "220 2023-11-12      0.027523              True         True           True   \n",
      "221 2023-12-12     -0.011858             False        False           True   \n",
      "222 2023-12-13      0.025323              True         True           True   \n",
      "223 2023-12-14      0.055661              True         True           True   \n",
      "224 2023-12-15      0.001798             False         True           True   \n",
      "225 2023-12-18      0.030804              True         True           True   \n",
      "226 2023-12-19     -0.038112              True         True           True   \n",
      "227 2023-12-20     -0.076992              True         True           True   \n",
      "228 2023-12-21      0.049591              True         True           True   \n",
      "229 2023-12-22      0.020362              True         True           True   \n",
      "230 2023-12-26     -0.000880             False         True           True   \n",
      "231 2023-12-27      0.002605             False         True           True   \n",
      "232 2023-12-28      0.055412              True         True           True   \n",
      "233 2023-12-29      0.002839             False         True           True   \n",
      "234 2024-01-01      0.008492             False         True           True   \n",
      "235 2024-02-01     -0.013237             False         True           True   \n",
      "236 2024-03-01     -0.026961              True         True           True   \n",
      "237 2024-04-01     -0.005031             False         True           True   \n",
      "238 2024-05-01     -0.021339              True         True           True   \n",
      "239 2024-08-01     -0.023911              True         True           True   \n",
      "240 2024-09-01     -0.008681             False         True           True   \n",
      "241 2024-10-01      0.009211             False         True           True   \n",
      "242 2024-11-01     -0.021130              True         True           True   \n",
      "243 2024-12-01      0.007895             False         True           True   \n",
      "244 2024-01-15     -0.011638             False         True           True   \n",
      "245 2024-01-16      0.039113              True         True           True   \n",
      "246 2024-01-17     -0.040305              True         True           True   \n",
      "247 2024-01-18     -0.000442             False         True           True   \n",
      "\n",
      "        Week  Isolation_Forest_Score  Anomalies_Isolation_Forest  \\\n",
      "47   13-2023                       1                           0   \n",
      "153  02-2023                      -1                           1   \n",
      "154  15-2023                      -1                           1   \n",
      "155  19-2023                       1                           0   \n",
      "156  23-2023                       1                           0   \n",
      "157  28-2023                       1                           0   \n",
      "158  32-2023                       1                           0   \n",
      "159  45-2023                       1                           0   \n",
      "160  49-2023                      -1                           1   \n",
      "217  24-2023                       1                           0   \n",
      "218  28-2023                       1                           0   \n",
      "220  46-2023                       1                           0   \n",
      "221  50-2023                       1                           0   \n",
      "222  50-2023                       1                           0   \n",
      "223  50-2023                      -1                           1   \n",
      "224  50-2023                       1                           0   \n",
      "225  51-2023                       1                           0   \n",
      "226  51-2023                       1                           0   \n",
      "227  51-2023                      -1                           1   \n",
      "228  51-2023                      -1                           1   \n",
      "229  51-2023                       1                           0   \n",
      "230  52-2023                       1                           0   \n",
      "231  52-2023                       1                           0   \n",
      "232  52-2023                      -1                           1   \n",
      "233  52-2023                       1                           0   \n",
      "234  00-2024                       1                           0   \n",
      "235  04-2024                       1                           0   \n",
      "236  08-2024                       1                           0   \n",
      "237  13-2024                       1                           0   \n",
      "238  17-2024                       1                           0   \n",
      "239  30-2024                       1                           0   \n",
      "240  35-2024                       1                           0   \n",
      "241  39-2024                       1                           0   \n",
      "242  43-2024                       1                           0   \n",
      "243  48-2024                       1                           0   \n",
      "244  02-2024                       1                           0   \n",
      "245  02-2024                      -1                           1   \n",
      "246  02-2024                      -1                           1   \n",
      "247  02-2024                       1                           0   \n",
      "\n",
      "     Anomaly_Prediction  Final_Anomaly  \n",
      "47                    1           True  \n",
      "153                  -1           True  \n",
      "154                   1           True  \n",
      "155                   1           True  \n",
      "156                   1           True  \n",
      "157                   1           True  \n",
      "158                   1           True  \n",
      "159                   1           True  \n",
      "160                  -1           True  \n",
      "217                   1           True  \n",
      "218                   1           True  \n",
      "220                   1           True  \n",
      "221                   1           True  \n",
      "222                   1           True  \n",
      "223                  -1           True  \n",
      "224                   1           True  \n",
      "225                   1           True  \n",
      "226                  -1           True  \n",
      "227                  -1           True  \n",
      "228                  -1           True  \n",
      "229                   1           True  \n",
      "230                   1           True  \n",
      "231                   1           True  \n",
      "232                  -1           True  \n",
      "233                  -1           True  \n",
      "234                  -1           True  \n",
      "235                  -1           True  \n",
      "236                  -1           True  \n",
      "237                  -1           True  \n",
      "238                   1           True  \n",
      "239                   1           True  \n",
      "240                   1           True  \n",
      "241                   1           True  \n",
      "242                   1           True  \n",
      "243                   1           True  \n",
      "244                   1           True  \n",
      "245                  -1           True  \n",
      "246                   1           True  \n",
      "247                   1           True  \n"
     ]
    }
   ],
   "source": [
    "# Display all columns without truncation and provide horizontal scrollbar\n",
    "pd.set_option('display.max_columns', None)\n",
    "pd.set_option('display.width', None)\n",
    "\n",
    "# Print rows corresponding to final anomalies\n",
    "final_anomaly_rows = df[df['Final_Anomaly']]\n",
    "print(\"Rows corresponding to Final Anomalies:\")\n",
    "print(final_anomaly_rows)\n",
    "\n",
    "# Reset display options to default\n",
    "pd.reset_option('display.max_columns')\n",
    "pd.reset_option('display.width')"
   ]
  },
  {
   "cell_type": "code",
   "execution_count": null,
   "id": "442724de",
   "metadata": {},
   "outputs": [],
   "source": []
  },
  {
   "cell_type": "code",
   "execution_count": null,
   "id": "7e904f6c",
   "metadata": {},
   "outputs": [],
   "source": []
  },
  {
   "cell_type": "code",
   "execution_count": null,
   "id": "486c9efc",
   "metadata": {},
   "outputs": [],
   "source": []
  },
  {
   "cell_type": "code",
   "execution_count": null,
   "id": "b72f5198",
   "metadata": {},
   "outputs": [],
   "source": []
  }
 ],
 "metadata": {
  "kernelspec": {
   "display_name": "Python 3 (ipykernel)",
   "language": "python",
   "name": "python3"
  },
  "language_info": {
   "codemirror_mode": {
    "name": "ipython",
    "version": 3
   },
   "file_extension": ".py",
   "mimetype": "text/x-python",
   "name": "python",
   "nbconvert_exporter": "python",
   "pygments_lexer": "ipython3",
   "version": "3.11.5"
  }
 },
 "nbformat": 4,
 "nbformat_minor": 5
}
